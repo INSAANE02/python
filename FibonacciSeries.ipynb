{
  "nbformat": 4,
  "nbformat_minor": 0,
  "metadata": {
    "colab": {
      "name": "Untitled28.ipynb",
      "provenance": [],
      "authorship_tag": "ABX9TyMbj+e1IXwmi6dbmX5kj4Z8",
      "include_colab_link": true
    },
    "kernelspec": {
      "name": "python3",
      "display_name": "Python 3"
    }
  },
  "cells": [
    {
      "cell_type": "markdown",
      "metadata": {
        "id": "view-in-github",
        "colab_type": "text"
      },
      "source": [
        "<a href=\"https://colab.research.google.com/github/Samson-Antony/python/blob/Fibonacci-Series/FibonacciSeries.ipynb\" target=\"_parent\"><img src=\"https://colab.research.google.com/assets/colab-badge.svg\" alt=\"Open In Colab\"/></a>"
      ]
    },
    {
      "cell_type": "code",
      "metadata": {
        "id": "DAaiWhUpFKch",
        "colab_type": "code",
        "colab": {}
      },
      "source": [
        "first=1\n",
        "second=1\n",
        "terms=10\n",
        "series=[]\n",
        "temp=0\n",
        "series.append(first)\n",
        "series.append(second)"
      ],
      "execution_count": 0,
      "outputs": []
    },
    {
      "cell_type": "code",
      "metadata": {
        "id": "qJfxxfT7Flvr",
        "colab_type": "code",
        "colab": {}
      },
      "source": [
        "for i in range (0,(terms-2)):\n",
        "  temp=first+second\n",
        "  first=second\n",
        "  second=temp\n",
        "  series.append(temp)\n",
        "  "
      ],
      "execution_count": 0,
      "outputs": []
    },
    {
      "cell_type": "code",
      "metadata": {
        "id": "7nP6z9FhGwGP",
        "colab_type": "code",
        "outputId": "5866d4c5-7130-4245-f138-6b8d558d3d60",
        "colab": {
          "base_uri": "https://localhost:8080/",
          "height": 34
        }
      },
      "source": [
        "series"
      ],
      "execution_count": 0,
      "outputs": [
        {
          "output_type": "execute_result",
          "data": {
            "text/plain": [
              "[1, 1, 2, 3, 5, 8, 13, 21, 34, 55]"
            ]
          },
          "metadata": {
            "tags": []
          },
          "execution_count": 20
        }
      ]
    }
  ]
}