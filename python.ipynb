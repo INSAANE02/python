{
  "nbformat": 4,
  "nbformat_minor": 0,
  "metadata": {
    "colab": {
      "name": "python",
      "provenance": [],
      "authorship_tag": "ABX9TyMc/FOpQ3lbOp8qPKvEKYYK",
      "include_colab_link": true
    },
    "kernelspec": {
      "name": "python3",
      "display_name": "Python 3"
    }
  },
  "cells": [
    {
      "cell_type": "markdown",
      "metadata": {
        "id": "view-in-github",
        "colab_type": "text"
      },
      "source": [
        "<a href=\"https://colab.research.google.com/github/Samson-Antony/python/blob/master/python.ipynb\" target=\"_parent\"><img src=\"https://colab.research.google.com/assets/colab-badge.svg\" alt=\"Open In Colab\"/></a>"
      ]
    },
    {
      "cell_type": "code",
      "metadata": {
        "id": "8EfB4OCtvmBW",
        "colab_type": "code",
        "colab": {}
      },
      "source": [
        "a = [[0]*50 for _ in range(50)]\n",
        "a"
      ],
      "execution_count": null,
      "outputs": []
    },
    {
      "cell_type": "code",
      "metadata": {
        "id": "CvTr8plJFXzG",
        "colab_type": "code",
        "colab": {
          "base_uri": "https://localhost:8080/",
          "height": 34
        },
        "outputId": "b0b440b9-351f-4410-b8c2-9155afd24b18"
      },
      "source": [
        "d=[4,2,8,4,5]\n",
        "d.insert(0,0)\n",
        "d"
      ],
      "execution_count": null,
      "outputs": [
        {
          "output_type": "execute_result",
          "data": {
            "text/plain": [
              "[0, 4, 2, 8, 4, 5]"
            ]
          },
          "metadata": {
            "tags": []
          },
          "execution_count": 82
        }
      ]
    },
    {
      "cell_type": "code",
      "metadata": {
        "id": "d5tFkwvJA6Dr",
        "colab_type": "code",
        "colab": {
          "base_uri": "https://localhost:8080/",
          "height": 941
        },
        "outputId": "b70684e5-5987-48f4-d91f-50c9eff29a54"
      },
      "source": [
        "a[9][0]=\"/\"\n",
        "for i in range (len(d)-1):\n",
        "  current=d[i]\n",
        "  next=d[i+1]\n",
        "  print(current,next)\n",
        "  ro=10-next;\n",
        "  co=current+next\n",
        "  if((current-next)<0):\n",
        "    a[ro][co]=\"/\"+\"\\\\\"\n",
        "  else:\n",
        "    a[ro][co]=\"\\\\\"+\"/\"\n",
        "\n",
        "  \n",
        "\n",
        "for i in range (50):\n",
        "  for j in range(50):\n",
        "    if(a[i][j]!=0):\n",
        "      {}\n",
        "    else:\n",
        "      a[i][j]=\"\"\n",
        "\n",
        "a\n",
        "\n",
        "for row in a:\n",
        "    for elem in row:\n",
        "        print(elem, end=' ')\n",
        "    print()\n"
      ],
      "execution_count": null,
      "outputs": [
        {
          "output_type": "stream",
          "text": [
            "0 4\n",
            "4 2\n",
            "2 8\n",
            "8 4\n",
            "4 5\n",
            "                                                  \n",
            "                                                  \n",
            "          /\\                                        \n",
            "                                                  \n",
            "                                                  \n",
            "         /\\                                         \n",
            "    /\\        \\/                                      \n",
            "                                                  \n",
            "      \\/                                            \n",
            "/                                                  \n",
            "                                                  \n",
            "                                                  \n",
            "                                                  \n",
            "                                                  \n",
            "                                                  \n",
            "                                                  \n",
            "                                                  \n",
            "                                                  \n",
            "                                                  \n",
            "                                                  \n",
            "                                                  \n",
            "                                                  \n",
            "                                                  \n",
            "                                                  \n",
            "                                                  \n",
            "                                                  \n",
            "                                                  \n",
            "                                                  \n",
            "                                                  \n",
            "                                                  \n",
            "                                                  \n",
            "                                                  \n",
            "                                                  \n",
            "                                                  \n",
            "                                                  \n",
            "                                                  \n",
            "                                                  \n",
            "                                                  \n",
            "                                                  \n",
            "                                                  \n",
            "                                                  \n",
            "                                                  \n",
            "                                                  \n",
            "                                                  \n",
            "                                                  \n",
            "                                                  \n",
            "                                                  \n",
            "                                                  \n",
            "                                                  \n",
            "                                                  \n"
          ],
          "name": "stdout"
        }
      ]
    }
  ]
}