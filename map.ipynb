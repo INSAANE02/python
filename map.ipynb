{
  "nbformat": 4,
  "nbformat_minor": 0,
  "metadata": {
    "colab": {
      "name": "map.ipynb",
      "provenance": [],
      "collapsed_sections": [],
      "authorship_tag": "ABX9TyNd/mB0RULzvG3cvBGBVcjq",
      "include_colab_link": true
    },
    "kernelspec": {
      "name": "python3",
      "display_name": "Python 3"
    }
  },
  "cells": [
    {
      "cell_type": "markdown",
      "metadata": {
        "id": "view-in-github",
        "colab_type": "text"
      },
      "source": [
        "<a href=\"https://colab.research.google.com/github/Samson-Antony/python/blob/master/map.ipynb\" target=\"_parent\"><img src=\"https://colab.research.google.com/assets/colab-badge.svg\" alt=\"Open In Colab\"/></a>"
      ]
    },
    {
      "cell_type": "code",
      "metadata": {
        "id": "uC2-IirnIBzH",
        "colab_type": "code",
        "colab": {}
      },
      "source": [
        "import pandas\n",
        "import folium"
      ],
      "execution_count": 0,
      "outputs": []
    },
    {
      "cell_type": "code",
      "metadata": {
        "id": "fi2i102RIjnh",
        "colab_type": "code",
        "colab": {}
      },
      "source": [
        "from google.colab import files\n",
        "uploaded = files.upload()"
      ],
      "execution_count": 0,
      "outputs": []
    },
    {
      "cell_type": "code",
      "metadata": {
        "id": "3WY_8uBJIsRe",
        "colab_type": "code",
        "colab": {}
      },
      "source": [
        "dataset = pandas.read_csv('gh.csv')"
      ],
      "execution_count": 0,
      "outputs": []
    },
    {
      "cell_type": "code",
      "metadata": {
        "id": "sQNOQLhoItMj",
        "colab_type": "code",
        "colab": {
          "base_uri": "https://localhost:8080/",
          "height": 375
        },
        "outputId": "5b5003cd-c2f1-4fd9-c57b-410a4c4c44cf"
      },
      "source": [
        "dataset.info"
      ],
      "execution_count": 139,
      "outputs": [
        {
          "output_type": "execute_result",
          "data": {
            "text/plain": [
              "<bound method DataFrame.info of                                                  name        lat        lon\n",
              "0   Tamil Nadu Government Multi Speciality Hospita...  13.070550  80.274627\n",
              "1   Rajiv Gandhi Government General Hospital, Chennai  13.081582  80.276570\n",
              "2           Stanley Medical College Hospital, Chennai  13.107380  80.286725\n",
              "3         Kilpauk Medical College & Hospital, Chennai  13.090398  80.238837\n",
              "4   Government Velore Medical College and Hospital...  12.845245  79.137057\n",
              "5   Government Mohan kumaramangalam Medical Colleg...  11.654704  78.152202\n",
              "6   Government Erode Medical College and Hospital,...  11.282512  77.566144\n",
              "7                 Government ESI Hospital, Coimbatore  11.009627  77.024138\n",
              "8   Government Vilupuram Medical College and Hospi...  11.994363  79.515190\n",
              "9   Government Thiruvannamalai Medical College and...  12.274464  79.079121\n",
              "10  Government Dharmapuri Medical College and Hosp...  12.123441  78.157793\n",
              "11  Government Karur Medical College and Hospital,...  10.951235  78.101158\n",
              "12  Raja Muthaiah Medical College Chithamparam, Cu...  11.395479  79.716068\n",
              "13  Mahatma Gandhi Memorial Government Hospital, T...  10.897742  78.691046\n",
              "14  Government Thanjavur Medical College and Hospi...  10.757734  79.104930\n",
              "15  Government Sivagangai Medical College and Hosp...   9.839939  78.478809\n",
              "16  Government Madurai Medical College and Hospita...   9.928251  78.129441\n",
              "17   Government Theni Medical college Hospital, Theni  10.008373  77.553221\n",
              "18  Government Thirunelveli Medical College and Ho...   8.716692  77.755561\n",
              "19  Government Kanyakumari Medical College and Hos...   8.173980  77.396183\n",
              "20  GovernmentThiruvarur Medical College and Hospi...  10.775795  79.606007>"
            ]
          },
          "metadata": {
            "tags": []
          },
          "execution_count": 139
        }
      ]
    },
    {
      "cell_type": "code",
      "metadata": {
        "id": "eDAmhc9VIw3A",
        "colab_type": "code",
        "colab": {}
      },
      "source": [
        "p= dataset[['lat','lon']]"
      ],
      "execution_count": 0,
      "outputs": []
    },
    {
      "cell_type": "code",
      "metadata": {
        "id": "ER3ZtSTNU_2W",
        "colab_type": "code",
        "colab": {
          "base_uri": "https://localhost:8080/",
          "height": 33
        },
        "outputId": "b435b9ef-b950-4657-fd0c-f353a9d58b3f"
      },
      "source": [
        "dataset['name'][0]"
      ],
      "execution_count": 141,
      "outputs": [
        {
          "output_type": "execute_result",
          "data": {
            "text/plain": [
              "'Tamil Nadu Government Multi Speciality Hospital, Chennai'"
            ]
          },
          "metadata": {
            "tags": []
          },
          "execution_count": 141
        }
      ]
    },
    {
      "cell_type": "code",
      "metadata": {
        "id": "WCjfSw6hSucS",
        "colab_type": "code",
        "colab": {
          "base_uri": "https://localhost:8080/",
          "height": 33
        },
        "outputId": "3a37853e-3cd3-4174-c775-c823b3ee2e67"
      },
      "source": [
        "type(p)"
      ],
      "execution_count": 142,
      "outputs": [
        {
          "output_type": "execute_result",
          "data": {
            "text/plain": [
              "pandas.core.frame.DataFrame"
            ]
          },
          "metadata": {
            "tags": []
          },
          "execution_count": 142
        }
      ]
    },
    {
      "cell_type": "code",
      "metadata": {
        "id": "Y0Quv1awI09l",
        "colab_type": "code",
        "colab": {}
      },
      "source": [
        "map= folium.Map(location=[13.070550,80.274627], zoom_start=7)"
      ],
      "execution_count": 0,
      "outputs": []
    },
    {
      "cell_type": "code",
      "metadata": {
        "id": "LdLcUokHS0iK",
        "colab_type": "code",
        "colab": {}
      },
      "source": [
        "p=p.values.tolist()"
      ],
      "execution_count": 0,
      "outputs": []
    },
    {
      "cell_type": "code",
      "metadata": {
        "id": "J_9PmTI7KmXM",
        "colab_type": "code",
        "colab": {
          "base_uri": "https://localhost:8080/",
          "height": 33
        },
        "outputId": "02a4cc27-d926-402c-9dee-1460025b1647"
      },
      "source": [
        "type(p)"
      ],
      "execution_count": 145,
      "outputs": [
        {
          "output_type": "execute_result",
          "data": {
            "text/plain": [
              "list"
            ]
          },
          "metadata": {
            "tags": []
          },
          "execution_count": 145
        }
      ]
    },
    {
      "cell_type": "code",
      "metadata": {
        "id": "wN-HWZj2I5iv",
        "colab_type": "code",
        "colab": {}
      },
      "source": [
        "#i=0\n",
        "#for i in p:\n",
        " #   folium.Marker(location=point, popup=dataset['name'],icon=folium.Icon(icon_color='green')).add_to(map)\n",
        "  #  i+=1\n",
        "    #"
      ],
      "execution_count": 0,
      "outputs": []
    },
    {
      "cell_type": "code",
      "metadata": {
        "id": "3-Zopx24XPyh",
        "colab_type": "code",
        "colab": {}
      },
      "source": [
        "def sam(i,color):\n",
        "    folium.Marker(\n",
        "            location=point, \n",
        "            popup=dataset['name'][i],\n",
        "            icon=folium.Icon(color=color, icon='tint', icon_color='white' )\n",
        "        ).add_to(map)"
      ],
      "execution_count": 0,
      "outputs": []
    },
    {
      "cell_type": "code",
      "metadata": {
        "id": "GIfgko5HI_Yz",
        "colab_type": "code",
        "colab": {}
      },
      "source": [
        "i=0\n",
        "for point in p:\n",
        "   # if dataset['Oct 2017\\nkl/month'][i] >= 10:\n",
        "        sam(i,'red')\n",
        " #   else:\n",
        "   #     lw(i,'green')\n",
        "        i+=1"
      ],
      "execution_count": 0,
      "outputs": []
    },
    {
      "cell_type": "code",
      "metadata": {
        "id": "7_7VTaajbCY5",
        "colab_type": "code",
        "colab": {
          "base_uri": "https://localhost:8080/",
          "height": 33
        },
        "outputId": "88620b2b-55b1-418d-b8b8-51532b9ba54d"
      },
      "source": [
        "folium.Circle(\n",
        "    radius=500,\n",
        "    location=[11.034296, 76.940367], \n",
        "    popup='KK Pudur', \n",
        "    color='crimson',\n",
        "    fill=False,\n",
        ").add_to(map)\n",
        "\n",
        "folium.Circle(\n",
        "    radius=500,\n",
        "    location=[10.964666, 76.988800], \n",
        "    popup='Podanur Railway Station', \n",
        "    color='crimson',\n",
        "    fill=False,\n",
        ").add_to(map)\n",
        "folium.Circle(\n",
        "    radius=500,\n",
        "    location=[10.961735, 76.972159], \n",
        "    popup='Sundarapuram', \n",
        "    color='crimson',\n",
        "    fill=False,\n",
        ").add_to(map)\n",
        "folium.Circle(\n",
        "    radius=500,\n",
        "    location=[10.956243, 76.951770], \n",
        "    popup='Kuniyamuthur', \n",
        "    color='crimson',\n",
        "    fill=False,\n",
        ").add_to(map)\n",
        "folium.Circle(\n",
        "    radius=500,\n",
        "    location=[11.047759, 76.945334], \n",
        "    popup='Kavundampalayam', \n",
        "    color='crimson',\n",
        "    fill=False,\n",
        ").add_to(map)\n",
        "folium.Circle(\n",
        "    radius=500,\n",
        "    location=[11.054693, 77.018201], \n",
        "    popup='Cheranmanagar', \n",
        "    color='crimson',\n",
        "    fill=False,\n",
        ").add_to(map)\n",
        "folium.Circle(\n",
        "    radius=500,\n",
        "    location=[10.955552, 76.998493], \n",
        "    popup='Podanur', \n",
        "    color='crimson',\n",
        "    fill=False,\n",
        ").add_to(map)\n",
        "folium.Circle(\n",
        "    radius=500,\n",
        "    location=[10.991174, 76.964696], \n",
        "    popup='Ukkadam', \n",
        "    color='crimson',\n",
        "    fill=False,\n",
        ").add_to(map)\n",
        "folium.Circle(\n",
        "    radius=500,\n",
        "    location=[11.008299, 76.955522], \n",
        "    popup='Poomarket', \n",
        "    color='crimson',\n",
        "    fill=False,\n",
        ").add_to(map)\n",
        "folium.Circle(\n",
        "    radius=500,\n",
        "    location=[11.009465, 76.951513], \n",
        "    popup='RS Puram', \n",
        "    color='crimson',\n",
        "    fill=False,\n",
        ").add_to(map)"
      ],
      "execution_count": 149,
      "outputs": [
        {
          "output_type": "execute_result",
          "data": {
            "text/plain": [
              "<folium.vector_layers.Circle at 0x7fd758e9c048>"
            ]
          },
          "metadata": {
            "tags": []
          },
          "execution_count": 149
        }
      ]
    },
    {
      "cell_type": "code",
      "metadata": {
        "id": "3IDczG45XxD7",
        "colab_type": "code",
        "colab": {
          "base_uri": "https://localhost:8080/",
          "height": 968
        },
        "outputId": "ffffba65-bdc6-403b-8e86-955c8c3a4db0"
      },
      "source": [
        "map"
      ],
      "execution_count": 150,
      "outputs": [
        {
          "output_type": "execute_result",
          "data": {
            "text/html": [
              "<div style=\"width:100%;\"><div style=\"position:relative;width:100%;height:0;padding-bottom:60%;\"><iframe src=\"about:blank\" style=\"position:absolute;width:100%;height:100%;left:0;top:0;border:none !important;\" data-html=PCFET0NUWVBFIGh0bWw+CjxoZWFkPiAgICAKICAgIDxtZXRhIGh0dHAtZXF1aXY9ImNvbnRlbnQtdHlwZSIgY29udGVudD0idGV4dC9odG1sOyBjaGFyc2V0PVVURi04IiAvPgogICAgPHNjcmlwdD5MX1BSRUZFUl9DQU5WQVM9ZmFsc2U7IExfTk9fVE9VQ0g9ZmFsc2U7IExfRElTQUJMRV8zRD1mYWxzZTs8L3NjcmlwdD4KICAgIDxzY3JpcHQgc3JjPSJodHRwczovL2Nkbi5qc2RlbGl2ci5uZXQvbnBtL2xlYWZsZXRAMS40LjAvZGlzdC9sZWFmbGV0LmpzIj48L3NjcmlwdD4KICAgIDxzY3JpcHQgc3JjPSJodHRwczovL2NvZGUuanF1ZXJ5LmNvbS9qcXVlcnktMS4xMi40Lm1pbi5qcyI+PC9zY3JpcHQ+CiAgICA8c2NyaXB0IHNyYz0iaHR0cHM6Ly9tYXhjZG4uYm9vdHN0cmFwY2RuLmNvbS9ib290c3RyYXAvMy4yLjAvanMvYm9vdHN0cmFwLm1pbi5qcyI+PC9zY3JpcHQ+CiAgICA8c2NyaXB0IHNyYz0iaHR0cHM6Ly9jZG5qcy5jbG91ZGZsYXJlLmNvbS9hamF4L2xpYnMvTGVhZmxldC5hd2Vzb21lLW1hcmtlcnMvMi4wLjIvbGVhZmxldC5hd2Vzb21lLW1hcmtlcnMuanMiPjwvc2NyaXB0PgogICAgPGxpbmsgcmVsPSJzdHlsZXNoZWV0IiBocmVmPSJodHRwczovL2Nkbi5qc2RlbGl2ci5uZXQvbnBtL2xlYWZsZXRAMS40LjAvZGlzdC9sZWFmbGV0LmNzcyIvPgogICAgPGxpbmsgcmVsPSJzdHlsZXNoZWV0IiBocmVmPSJodHRwczovL21heGNkbi5ib290c3RyYXBjZG4uY29tL2Jvb3RzdHJhcC8zLjIuMC9jc3MvYm9vdHN0cmFwLm1pbi5jc3MiLz4KICAgIDxsaW5rIHJlbD0ic3R5bGVzaGVldCIgaHJlZj0iaHR0cHM6Ly9tYXhjZG4uYm9vdHN0cmFwY2RuLmNvbS9ib290c3RyYXAvMy4yLjAvY3NzL2Jvb3RzdHJhcC10aGVtZS5taW4uY3NzIi8+CiAgICA8bGluayByZWw9InN0eWxlc2hlZXQiIGhyZWY9Imh0dHBzOi8vbWF4Y2RuLmJvb3RzdHJhcGNkbi5jb20vZm9udC1hd2Vzb21lLzQuNi4zL2Nzcy9mb250LWF3ZXNvbWUubWluLmNzcyIvPgogICAgPGxpbmsgcmVsPSJzdHlsZXNoZWV0IiBocmVmPSJodHRwczovL2NkbmpzLmNsb3VkZmxhcmUuY29tL2FqYXgvbGlicy9MZWFmbGV0LmF3ZXNvbWUtbWFya2Vycy8yLjAuMi9sZWFmbGV0LmF3ZXNvbWUtbWFya2Vycy5jc3MiLz4KICAgIDxsaW5rIHJlbD0ic3R5bGVzaGVldCIgaHJlZj0iaHR0cHM6Ly9yYXdjZG4uZ2l0aGFjay5jb20vcHl0aG9uLXZpc3VhbGl6YXRpb24vZm9saXVtL21hc3Rlci9mb2xpdW0vdGVtcGxhdGVzL2xlYWZsZXQuYXdlc29tZS5yb3RhdGUuY3NzIi8+CiAgICA8c3R5bGU+aHRtbCwgYm9keSB7d2lkdGg6IDEwMCU7aGVpZ2h0OiAxMDAlO21hcmdpbjogMDtwYWRkaW5nOiAwO308L3N0eWxlPgogICAgPHN0eWxlPiNtYXAge3Bvc2l0aW9uOmFic29sdXRlO3RvcDowO2JvdHRvbTowO3JpZ2h0OjA7bGVmdDowO308L3N0eWxlPgogICAgCiAgICA8bWV0YSBuYW1lPSJ2aWV3cG9ydCIgY29udGVudD0id2lkdGg9ZGV2aWNlLXdpZHRoLAogICAgICAgIGluaXRpYWwtc2NhbGU9MS4wLCBtYXhpbXVtLXNjYWxlPTEuMCwgdXNlci1zY2FsYWJsZT1ubyIgLz4KICAgIDxzdHlsZT4jbWFwXzEwZmE2NGYyODI1MTRiMjBhNmYxMzdhN2ZlM2NmNTRiIHsKICAgICAgICBwb3NpdGlvbjogcmVsYXRpdmU7CiAgICAgICAgd2lkdGg6IDEwMC4wJTsKICAgICAgICBoZWlnaHQ6IDEwMC4wJTsKICAgICAgICBsZWZ0OiAwLjAlOwogICAgICAgIHRvcDogMC4wJTsKICAgICAgICB9CiAgICA8L3N0eWxlPgo8L2hlYWQ+Cjxib2R5PiAgICAKICAgIAogICAgPGRpdiBjbGFzcz0iZm9saXVtLW1hcCIgaWQ9Im1hcF8xMGZhNjRmMjgyNTE0YjIwYTZmMTM3YTdmZTNjZjU0YiIgPjwvZGl2Pgo8L2JvZHk+CjxzY3JpcHQ+ICAgIAogICAgCiAgICAKICAgICAgICB2YXIgYm91bmRzID0gbnVsbDsKICAgIAoKICAgIHZhciBtYXBfMTBmYTY0ZjI4MjUxNGIyMGE2ZjEzN2E3ZmUzY2Y1NGIgPSBMLm1hcCgKICAgICAgICAnbWFwXzEwZmE2NGYyODI1MTRiMjBhNmYxMzdhN2ZlM2NmNTRiJywgewogICAgICAgIGNlbnRlcjogWzEzLjA3MDU1LCA4MC4yNzQ2MjddLAogICAgICAgIHpvb206IDcsCiAgICAgICAgbWF4Qm91bmRzOiBib3VuZHMsCiAgICAgICAgbGF5ZXJzOiBbXSwKICAgICAgICB3b3JsZENvcHlKdW1wOiBmYWxzZSwKICAgICAgICBjcnM6IEwuQ1JTLkVQU0czODU3LAogICAgICAgIHpvb21Db250cm9sOiB0cnVlLAogICAgICAgIH0pOwoKCiAgICAKICAgIHZhciB0aWxlX2xheWVyXzkzMDk0N2U0OTdkNzRlMjU5NDg5OTFkNjdlMmNmYzZhID0gTC50aWxlTGF5ZXIoCiAgICAgICAgJ2h0dHBzOi8ve3N9LnRpbGUub3BlbnN0cmVldG1hcC5vcmcve3p9L3t4fS97eX0ucG5nJywKICAgICAgICB7CiAgICAgICAgImF0dHJpYnV0aW9uIjogbnVsbCwKICAgICAgICAiZGV0ZWN0UmV0aW5hIjogZmFsc2UsCiAgICAgICAgIm1heE5hdGl2ZVpvb20iOiAxOCwKICAgICAgICAibWF4Wm9vbSI6IDE4LAogICAgICAgICJtaW5ab29tIjogMCwKICAgICAgICAibm9XcmFwIjogZmFsc2UsCiAgICAgICAgIm9wYWNpdHkiOiAxLAogICAgICAgICJzdWJkb21haW5zIjogImFiYyIsCiAgICAgICAgInRtcyI6IGZhbHNlCn0pLmFkZFRvKG1hcF8xMGZhNjRmMjgyNTE0YjIwYTZmMTM3YTdmZTNjZjU0Yik7CiAgICAKICAgICAgICB2YXIgbWFya2VyX2U4MGViNTdlNjcyMDRkOGJhOTJiMmNiNGRlOTBjNmEzID0gTC5tYXJrZXIoCiAgICAgICAgICAgIFsxMy4wNzA1NSwgODAuMjc0NjI3XSwKICAgICAgICAgICAgewogICAgICAgICAgICAgICAgaWNvbjogbmV3IEwuSWNvbi5EZWZhdWx0KCksCiAgICAgICAgICAgICAgICB9CiAgICAgICAgICAgICkuYWRkVG8obWFwXzEwZmE2NGYyODI1MTRiMjBhNmYxMzdhN2ZlM2NmNTRiKTsKICAgICAgICAKICAgIAoKICAgICAgICAgICAgICAgIHZhciBpY29uXzVhZTBjYzhkYTI0OTQwZDFiNGZkMmYzYTQ3ZmZiMGRiID0gTC5Bd2Vzb21lTWFya2Vycy5pY29uKHsKICAgICAgICAgICAgICAgICAgICBpY29uOiAndGludCcsCiAgICAgICAgICAgICAgICAgICAgaWNvbkNvbG9yOiAnd2hpdGUnLAogICAgICAgICAgICAgICAgICAgIG1hcmtlckNvbG9yOiAncmVkJywKICAgICAgICAgICAgICAgICAgICBwcmVmaXg6ICdnbHlwaGljb24nLAogICAgICAgICAgICAgICAgICAgIGV4dHJhQ2xhc3NlczogJ2ZhLXJvdGF0ZS0wJwogICAgICAgICAgICAgICAgICAgIH0pOwogICAgICAgICAgICAgICAgbWFya2VyX2U4MGViNTdlNjcyMDRkOGJhOTJiMmNiNGRlOTBjNmEzLnNldEljb24oaWNvbl81YWUwY2M4ZGEyNDk0MGQxYjRmZDJmM2E0N2ZmYjBkYik7CiAgICAgICAgICAgIAogICAgCiAgICAgICAgICAgIHZhciBwb3B1cF83ZmE5YzIzY2Y0NjY0MzkwOWNmZjRkYWM5MDdjOGFmOSA9IEwucG9wdXAoe21heFdpZHRoOiAnMTAwJScKICAgICAgICAgICAgCiAgICAgICAgICAgIH0pOwoKICAgICAgICAgICAgCiAgICAgICAgICAgICAgICB2YXIgaHRtbF8wNmE1Njc5ZGUzNjA0NWUwYmQ2NzU2NTVmM2E3NGMwMiA9ICQoYDxkaXYgaWQ9Imh0bWxfMDZhNTY3OWRlMzYwNDVlMGJkNjc1NjU1ZjNhNzRjMDIiIHN0eWxlPSJ3aWR0aDogMTAwLjAlOyBoZWlnaHQ6IDEwMC4wJTsiPlRhbWlsIE5hZHUgR292ZXJubWVudCBNdWx0aSBTcGVjaWFsaXR5IEhvc3BpdGFsLCBDaGVubmFpPC9kaXY+YClbMF07CiAgICAgICAgICAgICAgICBwb3B1cF83ZmE5YzIzY2Y0NjY0MzkwOWNmZjRkYWM5MDdjOGFmOS5zZXRDb250ZW50KGh0bWxfMDZhNTY3OWRlMzYwNDVlMGJkNjc1NjU1ZjNhNzRjMDIpOwogICAgICAgICAgICAKCiAgICAgICAgICAgIG1hcmtlcl9lODBlYjU3ZTY3MjA0ZDhiYTkyYjJjYjRkZTkwYzZhMy5iaW5kUG9wdXAocG9wdXBfN2ZhOWMyM2NmNDY2NDM5MDljZmY0ZGFjOTA3YzhhZjkpCiAgICAgICAgICAgIDsKCiAgICAgICAgICAgIAogICAgICAgIAogICAgCiAgICAgICAgdmFyIG1hcmtlcl8xZWRkNTIyN2JiNmI0ODI3YWQzZWY5MGFmMDFkN2NmMCA9IEwubWFya2VyKAogICAgICAgICAgICBbMTMuMDgxNTgyMDAwMDAwMDAxLCA4MC4yNzY1Njk5OTk5OTk5OV0sCiAgICAgICAgICAgIHsKICAgICAgICAgICAgICAgIGljb246IG5ldyBMLkljb24uRGVmYXVsdCgpLAogICAgICAgICAgICAgICAgfQogICAgICAgICAgICApLmFkZFRvKG1hcF8xMGZhNjRmMjgyNTE0YjIwYTZmMTM3YTdmZTNjZjU0Yik7CiAgICAgICAgCiAgICAKCiAgICAgICAgICAgICAgICB2YXIgaWNvbl85NTUwMDQ1MTdhYmY0ZTJjYjMzZDRmNTM5OTU5NDBjMiA9IEwuQXdlc29tZU1hcmtlcnMuaWNvbih7CiAgICAgICAgICAgICAgICAgICAgaWNvbjogJ3RpbnQnLAogICAgICAgICAgICAgICAgICAgIGljb25Db2xvcjogJ3doaXRlJywKICAgICAgICAgICAgICAgICAgICBtYXJrZXJDb2xvcjogJ3JlZCcsCiAgICAgICAgICAgICAgICAgICAgcHJlZml4OiAnZ2x5cGhpY29uJywKICAgICAgICAgICAgICAgICAgICBleHRyYUNsYXNzZXM6ICdmYS1yb3RhdGUtMCcKICAgICAgICAgICAgICAgICAgICB9KTsKICAgICAgICAgICAgICAgIG1hcmtlcl8xZWRkNTIyN2JiNmI0ODI3YWQzZWY5MGFmMDFkN2NmMC5zZXRJY29uKGljb25fOTU1MDA0NTE3YWJmNGUyY2IzM2Q0ZjUzOTk1OTQwYzIpOwogICAgICAgICAgICAKICAgIAogICAgICAgICAgICB2YXIgcG9wdXBfYTI5YWJiZjE4MjYxNDdmZWE5YzI5MTVkN2Q1OTczNDkgPSBMLnBvcHVwKHttYXhXaWR0aDogJzEwMCUnCiAgICAgICAgICAgIAogICAgICAgICAgICB9KTsKCiAgICAgICAgICAgIAogICAgICAgICAgICAgICAgdmFyIGh0bWxfYmRjMTdiMmE2YWJjNGE1NWEzZDRjN2Y1MmRkZWQyYzYgPSAkKGA8ZGl2IGlkPSJodG1sX2JkYzE3YjJhNmFiYzRhNTVhM2Q0YzdmNTJkZGVkMmM2IiBzdHlsZT0id2lkdGg6IDEwMC4wJTsgaGVpZ2h0OiAxMDAuMCU7Ij5SYWppdiBHYW5kaGkgR292ZXJubWVudCBHZW5lcmFsIEhvc3BpdGFsLCBDaGVubmFpPC9kaXY+YClbMF07CiAgICAgICAgICAgICAgICBwb3B1cF9hMjlhYmJmMTgyNjE0N2ZlYTljMjkxNWQ3ZDU5NzM0OS5zZXRDb250ZW50KGh0bWxfYmRjMTdiMmE2YWJjNGE1NWEzZDRjN2Y1MmRkZWQyYzYpOwogICAgICAgICAgICAKCiAgICAgICAgICAgIG1hcmtlcl8xZWRkNTIyN2JiNmI0ODI3YWQzZWY5MGFmMDFkN2NmMC5iaW5kUG9wdXAocG9wdXBfYTI5YWJiZjE4MjYxNDdmZWE5YzI5MTVkN2Q1OTczNDkpCiAgICAgICAgICAgIDsKCiAgICAgICAgICAgIAogICAgICAgIAogICAgCiAgICAgICAgdmFyIG1hcmtlcl8yZjRmM2Y2MDI2YzM0MDdhODE1OWE5MTYzZGYxM2YyNiA9IEwubWFya2VyKAogICAgICAgICAgICBbMTMuMTA3MzgsIDgwLjI4NjcyNV0sCiAgICAgICAgICAgIHsKICAgICAgICAgICAgICAgIGljb246IG5ldyBMLkljb24uRGVmYXVsdCgpLAogICAgICAgICAgICAgICAgfQogICAgICAgICAgICApLmFkZFRvKG1hcF8xMGZhNjRmMjgyNTE0YjIwYTZmMTM3YTdmZTNjZjU0Yik7CiAgICAgICAgCiAgICAKCiAgICAgICAgICAgICAgICB2YXIgaWNvbl8yMDhjMWYxMjM3YWI0YWIxOTQ5ZmY5YWNmZTY3Y2E2OSA9IEwuQXdlc29tZU1hcmtlcnMuaWNvbih7CiAgICAgICAgICAgICAgICAgICAgaWNvbjogJ3RpbnQnLAogICAgICAgICAgICAgICAgICAgIGljb25Db2xvcjogJ3doaXRlJywKICAgICAgICAgICAgICAgICAgICBtYXJrZXJDb2xvcjogJ3JlZCcsCiAgICAgICAgICAgICAgICAgICAgcHJlZml4OiAnZ2x5cGhpY29uJywKICAgICAgICAgICAgICAgICAgICBleHRyYUNsYXNzZXM6ICdmYS1yb3RhdGUtMCcKICAgICAgICAgICAgICAgICAgICB9KTsKICAgICAgICAgICAgICAgIG1hcmtlcl8yZjRmM2Y2MDI2YzM0MDdhODE1OWE5MTYzZGYxM2YyNi5zZXRJY29uKGljb25fMjA4YzFmMTIzN2FiNGFiMTk0OWZmOWFjZmU2N2NhNjkpOwogICAgICAgICAgICAKICAgIAogICAgICAgICAgICB2YXIgcG9wdXBfNjc0OWIxMTE1NjliNGViOWJkZGFkY2NhOTQ2YjEyYjkgPSBMLnBvcHVwKHttYXhXaWR0aDogJzEwMCUnCiAgICAgICAgICAgIAogICAgICAgICAgICB9KTsKCiAgICAgICAgICAgIAogICAgICAgICAgICAgICAgdmFyIGh0bWxfN2JmZTkxOTE0ODg5NGQwNmI0ZTRmYzczZDRjZjU1YmYgPSAkKGA8ZGl2IGlkPSJodG1sXzdiZmU5MTkxNDg4OTRkMDZiNGU0ZmM3M2Q0Y2Y1NWJmIiBzdHlsZT0id2lkdGg6IDEwMC4wJTsgaGVpZ2h0OiAxMDAuMCU7Ij5TdGFubGV5IE1lZGljYWwgQ29sbGVnZSBIb3NwaXRhbCwgQ2hlbm5haTwvZGl2PmApWzBdOwogICAgICAgICAgICAgICAgcG9wdXBfNjc0OWIxMTE1NjliNGViOWJkZGFkY2NhOTQ2YjEyYjkuc2V0Q29udGVudChodG1sXzdiZmU5MTkxNDg4OTRkMDZiNGU0ZmM3M2Q0Y2Y1NWJmKTsKICAgICAgICAgICAgCgogICAgICAgICAgICBtYXJrZXJfMmY0ZjNmNjAyNmMzNDA3YTgxNTlhOTE2M2RmMTNmMjYuYmluZFBvcHVwKHBvcHVwXzY3NDliMTExNTY5YjRlYjliZGRhZGNjYTk0NmIxMmI5KQogICAgICAgICAgICA7CgogICAgICAgICAgICAKICAgICAgICAKICAgIAogICAgICAgIHZhciBtYXJrZXJfMWI5Mjg1NzI0MDk4NGM2ZDg5ODE2ZDU1OGQyN2I1NDcgPSBMLm1hcmtlcigKICAgICAgICAgICAgWzEzLjA5MDM5OCwgODAuMjM4ODM3XSwKICAgICAgICAgICAgewogICAgICAgICAgICAgICAgaWNvbjogbmV3IEwuSWNvbi5EZWZhdWx0KCksCiAgICAgICAgICAgICAgICB9CiAgICAgICAgICAgICkuYWRkVG8obWFwXzEwZmE2NGYyODI1MTRiMjBhNmYxMzdhN2ZlM2NmNTRiKTsKICAgICAgICAKICAgIAoKICAgICAgICAgICAgICAgIHZhciBpY29uXzQyYThhNzkyMTQwOTQ2MzZhNWI5NWZmZDBlNWViNTE3ID0gTC5Bd2Vzb21lTWFya2Vycy5pY29uKHsKICAgICAgICAgICAgICAgICAgICBpY29uOiAndGludCcsCiAgICAgICAgICAgICAgICAgICAgaWNvbkNvbG9yOiAnd2hpdGUnLAogICAgICAgICAgICAgICAgICAgIG1hcmtlckNvbG9yOiAncmVkJywKICAgICAgICAgICAgICAgICAgICBwcmVmaXg6ICdnbHlwaGljb24nLAogICAgICAgICAgICAgICAgICAgIGV4dHJhQ2xhc3NlczogJ2ZhLXJvdGF0ZS0wJwogICAgICAgICAgICAgICAgICAgIH0pOwogICAgICAgICAgICAgICAgbWFya2VyXzFiOTI4NTcyNDA5ODRjNmQ4OTgxNmQ1NThkMjdiNTQ3LnNldEljb24oaWNvbl80MmE4YTc5MjE0MDk0NjM2YTViOTVmZmQwZTVlYjUxNyk7CiAgICAgICAgICAgIAogICAgCiAgICAgICAgICAgIHZhciBwb3B1cF8wM2YxM2QzMTQ2ZTE0MDcxOTVmNmMxZDVkNmI0ZGFiYiA9IEwucG9wdXAoe21heFdpZHRoOiAnMTAwJScKICAgICAgICAgICAgCiAgICAgICAgICAgIH0pOwoKICAgICAgICAgICAgCiAgICAgICAgICAgICAgICB2YXIgaHRtbF9mNGUwNzRkMjNjMTY0NTc3OWUyM2U4NDUxOWMyNzY0NCA9ICQoYDxkaXYgaWQ9Imh0bWxfZjRlMDc0ZDIzYzE2NDU3NzllMjNlODQ1MTljMjc2NDQiIHN0eWxlPSJ3aWR0aDogMTAwLjAlOyBoZWlnaHQ6IDEwMC4wJTsiPktpbHBhdWsgTWVkaWNhbCBDb2xsZWdlICYgSG9zcGl0YWwsIENoZW5uYWk8L2Rpdj5gKVswXTsKICAgICAgICAgICAgICAgIHBvcHVwXzAzZjEzZDMxNDZlMTQwNzE5NWY2YzFkNWQ2YjRkYWJiLnNldENvbnRlbnQoaHRtbF9mNGUwNzRkMjNjMTY0NTc3OWUyM2U4NDUxOWMyNzY0NCk7CiAgICAgICAgICAgIAoKICAgICAgICAgICAgbWFya2VyXzFiOTI4NTcyNDA5ODRjNmQ4OTgxNmQ1NThkMjdiNTQ3LmJpbmRQb3B1cChwb3B1cF8wM2YxM2QzMTQ2ZTE0MDcxOTVmNmMxZDVkNmI0ZGFiYikKICAgICAgICAgICAgOwoKICAgICAgICAgICAgCiAgICAgICAgCiAgICAKICAgICAgICB2YXIgbWFya2VyXzY4Yjg5NmJmZWVkZjQ3NmZhZDA2ZjBjMzkyZmQwNmM0ID0gTC5tYXJrZXIoCiAgICAgICAgICAgIFsxMi44NDUyNDUsIDc5LjEzNzA1N10sCiAgICAgICAgICAgIHsKICAgICAgICAgICAgICAgIGljb246IG5ldyBMLkljb24uRGVmYXVsdCgpLAogICAgICAgICAgICAgICAgfQogICAgICAgICAgICApLmFkZFRvKG1hcF8xMGZhNjRmMjgyNTE0YjIwYTZmMTM3YTdmZTNjZjU0Yik7CiAgICAgICAgCiAgICAKCiAgICAgICAgICAgICAgICB2YXIgaWNvbl81MWRmYmQzY2UyM2Y0MWMzYmI4NzVjN2NlOWFkMDgyYyA9IEwuQXdlc29tZU1hcmtlcnMuaWNvbih7CiAgICAgICAgICAgICAgICAgICAgaWNvbjogJ3RpbnQnLAogICAgICAgICAgICAgICAgICAgIGljb25Db2xvcjogJ3doaXRlJywKICAgICAgICAgICAgICAgICAgICBtYXJrZXJDb2xvcjogJ3JlZCcsCiAgICAgICAgICAgICAgICAgICAgcHJlZml4OiAnZ2x5cGhpY29uJywKICAgICAgICAgICAgICAgICAgICBleHRyYUNsYXNzZXM6ICdmYS1yb3RhdGUtMCcKICAgICAgICAgICAgICAgICAgICB9KTsKICAgICAgICAgICAgICAgIG1hcmtlcl82OGI4OTZiZmVlZGY0NzZmYWQwNmYwYzM5MmZkMDZjNC5zZXRJY29uKGljb25fNTFkZmJkM2NlMjNmNDFjM2JiODc1YzdjZTlhZDA4MmMpOwogICAgICAgICAgICAKICAgIAogICAgICAgICAgICB2YXIgcG9wdXBfZjc5ZGNhOTVhNjQ3NGU5YWJkY2RjYzI4OGI0ZGVhZGUgPSBMLnBvcHVwKHttYXhXaWR0aDogJzEwMCUnCiAgICAgICAgICAgIAogICAgICAgICAgICB9KTsKCiAgICAgICAgICAgIAogICAgICAgICAgICAgICAgdmFyIGh0bWxfNjY0OTdkMDRiZTFiNDJkNWE5NzY2Yzc0ZTI5ZTFkYjggPSAkKGA8ZGl2IGlkPSJodG1sXzY2NDk3ZDA0YmUxYjQyZDVhOTc2NmM3NGUyOWUxZGI4IiBzdHlsZT0id2lkdGg6IDEwMC4wJTsgaGVpZ2h0OiAxMDAuMCU7Ij5Hb3Zlcm5tZW50IFZlbG9yZSBNZWRpY2FsIENvbGxlZ2UgYW5kIEhvc3BpdGFsLCBWZWxsb3JlPC9kaXY+YClbMF07CiAgICAgICAgICAgICAgICBwb3B1cF9mNzlkY2E5NWE2NDc0ZTlhYmRjZGNjMjg4YjRkZWFkZS5zZXRDb250ZW50KGh0bWxfNjY0OTdkMDRiZTFiNDJkNWE5NzY2Yzc0ZTI5ZTFkYjgpOwogICAgICAgICAgICAKCiAgICAgICAgICAgIG1hcmtlcl82OGI4OTZiZmVlZGY0NzZmYWQwNmYwYzM5MmZkMDZjNC5iaW5kUG9wdXAocG9wdXBfZjc5ZGNhOTVhNjQ3NGU5YWJkY2RjYzI4OGI0ZGVhZGUpCiAgICAgICAgICAgIDsKCiAgICAgICAgICAgIAogICAgICAgIAogICAgCiAgICAgICAgdmFyIG1hcmtlcl8wMjM4ZWZjOWYyYzI0MTM4OTNjNzQzMDA3ZGM2ZTY4MyA9IEwubWFya2VyKAogICAgICAgICAgICBbMTEuNjU0NzAzOTk5OTk5OTk5LCA3OC4xNTIyMDJdLAogICAgICAgICAgICB7CiAgICAgICAgICAgICAgICBpY29uOiBuZXcgTC5JY29uLkRlZmF1bHQoKSwKICAgICAgICAgICAgICAgIH0KICAgICAgICAgICAgKS5hZGRUbyhtYXBfMTBmYTY0ZjI4MjUxNGIyMGE2ZjEzN2E3ZmUzY2Y1NGIpOwogICAgICAgIAogICAgCgogICAgICAgICAgICAgICAgdmFyIGljb25fN2EwODVmYTUwYjViNDUxN2FlOTRhMThmM2FhMjVlNWIgPSBMLkF3ZXNvbWVNYXJrZXJzLmljb24oewogICAgICAgICAgICAgICAgICAgIGljb246ICd0aW50JywKICAgICAgICAgICAgICAgICAgICBpY29uQ29sb3I6ICd3aGl0ZScsCiAgICAgICAgICAgICAgICAgICAgbWFya2VyQ29sb3I6ICdyZWQnLAogICAgICAgICAgICAgICAgICAgIHByZWZpeDogJ2dseXBoaWNvbicsCiAgICAgICAgICAgICAgICAgICAgZXh0cmFDbGFzc2VzOiAnZmEtcm90YXRlLTAnCiAgICAgICAgICAgICAgICAgICAgfSk7CiAgICAgICAgICAgICAgICBtYXJrZXJfMDIzOGVmYzlmMmMyNDEzODkzYzc0MzAwN2RjNmU2ODMuc2V0SWNvbihpY29uXzdhMDg1ZmE1MGI1YjQ1MTdhZTk0YTE4ZjNhYTI1ZTViKTsKICAgICAgICAgICAgCiAgICAKICAgICAgICAgICAgdmFyIHBvcHVwXzg2ODkzMGY2MzMzMjQ1YzhhODkzYTljM2VhZWRiNWFhID0gTC5wb3B1cCh7bWF4V2lkdGg6ICcxMDAlJwogICAgICAgICAgICAKICAgICAgICAgICAgfSk7CgogICAgICAgICAgICAKICAgICAgICAgICAgICAgIHZhciBodG1sXzljNmI3NGQ1ZWU4NTQ4Yzg4YmQyMzM3NDg5MjM3YTlhID0gJChgPGRpdiBpZD0iaHRtbF85YzZiNzRkNWVlODU0OGM4OGJkMjMzNzQ4OTIzN2E5YSIgc3R5bGU9IndpZHRoOiAxMDAuMCU7IGhlaWdodDogMTAwLjAlOyI+R292ZXJubWVudCBNb2hhbiBrdW1hcmFtYW5nYWxhbSBNZWRpY2FsIENvbGxlZ2UgYW5kIEhvc3BpdGFsLCBTYWxlbTwvZGl2PmApWzBdOwogICAgICAgICAgICAgICAgcG9wdXBfODY4OTMwZjYzMzMyNDVjOGE4OTNhOWMzZWFlZGI1YWEuc2V0Q29udGVudChodG1sXzljNmI3NGQ1ZWU4NTQ4Yzg4YmQyMzM3NDg5MjM3YTlhKTsKICAgICAgICAgICAgCgogICAgICAgICAgICBtYXJrZXJfMDIzOGVmYzlmMmMyNDEzODkzYzc0MzAwN2RjNmU2ODMuYmluZFBvcHVwKHBvcHVwXzg2ODkzMGY2MzMzMjQ1YzhhODkzYTljM2VhZWRiNWFhKQogICAgICAgICAgICA7CgogICAgICAgICAgICAKICAgICAgICAKICAgIAogICAgICAgIHZhciBtYXJrZXJfNzc0YzZiODQ1OWI0NGViNGI4OTc0NmUwZDg3Yzg5NjIgPSBMLm1hcmtlcigKICAgICAgICAgICAgWzExLjI4MjUxMTk5OTk5OTk5OSwgNzcuNTY2MTQ0XSwKICAgICAgICAgICAgewogICAgICAgICAgICAgICAgaWNvbjogbmV3IEwuSWNvbi5EZWZhdWx0KCksCiAgICAgICAgICAgICAgICB9CiAgICAgICAgICAgICkuYWRkVG8obWFwXzEwZmE2NGYyODI1MTRiMjBhNmYxMzdhN2ZlM2NmNTRiKTsKICAgICAgICAKICAgIAoKICAgICAgICAgICAgICAgIHZhciBpY29uXzc5NjA4ZGE5ZDdkMjRmMGFiOGVmYjllMWYwY2JkYTRhID0gTC5Bd2Vzb21lTWFya2Vycy5pY29uKHsKICAgICAgICAgICAgICAgICAgICBpY29uOiAndGludCcsCiAgICAgICAgICAgICAgICAgICAgaWNvbkNvbG9yOiAnd2hpdGUnLAogICAgICAgICAgICAgICAgICAgIG1hcmtlckNvbG9yOiAncmVkJywKICAgICAgICAgICAgICAgICAgICBwcmVmaXg6ICdnbHlwaGljb24nLAogICAgICAgICAgICAgICAgICAgIGV4dHJhQ2xhc3NlczogJ2ZhLXJvdGF0ZS0wJwogICAgICAgICAgICAgICAgICAgIH0pOwogICAgICAgICAgICAgICAgbWFya2VyXzc3NGM2Yjg0NTliNDRlYjRiODk3NDZlMGQ4N2M4OTYyLnNldEljb24oaWNvbl83OTYwOGRhOWQ3ZDI0ZjBhYjhlZmI5ZTFmMGNiZGE0YSk7CiAgICAgICAgICAgIAogICAgCiAgICAgICAgICAgIHZhciBwb3B1cF9kYjVjNzNiZGU1ZWI0OWZlOTk5ODdjMGFlNmRjN2UwNCA9IEwucG9wdXAoe21heFdpZHRoOiAnMTAwJScKICAgICAgICAgICAgCiAgICAgICAgICAgIH0pOwoKICAgICAgICAgICAgCiAgICAgICAgICAgICAgICB2YXIgaHRtbF84NWE3M2YzOWM4M2Y0Y2RmOGNiZTVkZDFlZDIxZjQ5YyA9ICQoYDxkaXYgaWQ9Imh0bWxfODVhNzNmMzljODNmNGNkZjhjYmU1ZGQxZWQyMWY0OWMiIHN0eWxlPSJ3aWR0aDogMTAwLjAlOyBoZWlnaHQ6IDEwMC4wJTsiPkdvdmVybm1lbnQgRXJvZGUgTWVkaWNhbCBDb2xsZWdlIGFuZCBIb3NwaXRhbCxQZXJ1bmR1cmFpLCBFcm9kZTwvZGl2PmApWzBdOwogICAgICAgICAgICAgICAgcG9wdXBfZGI1YzczYmRlNWViNDlmZTk5OTg3YzBhZTZkYzdlMDQuc2V0Q29udGVudChodG1sXzg1YTczZjM5YzgzZjRjZGY4Y2JlNWRkMWVkMjFmNDljKTsKICAgICAgICAgICAgCgogICAgICAgICAgICBtYXJrZXJfNzc0YzZiODQ1OWI0NGViNGI4OTc0NmUwZDg3Yzg5NjIuYmluZFBvcHVwKHBvcHVwX2RiNWM3M2JkZTVlYjQ5ZmU5OTk4N2MwYWU2ZGM3ZTA0KQogICAgICAgICAgICA7CgogICAgICAgICAgICAKICAgICAgICAKICAgIAogICAgICAgIHZhciBtYXJrZXJfNjM3YmM4NzY3MzEwNDRjZjliZDViZTlmZTNkZmU5NzUgPSBMLm1hcmtlcigKICAgICAgICAgICAgWzExLjAwOTYyNywgNzcuMDI0MTM4XSwKICAgICAgICAgICAgewogICAgICAgICAgICAgICAgaWNvbjogbmV3IEwuSWNvbi5EZWZhdWx0KCksCiAgICAgICAgICAgICAgICB9CiAgICAgICAgICAgICkuYWRkVG8obWFwXzEwZmE2NGYyODI1MTRiMjBhNmYxMzdhN2ZlM2NmNTRiKTsKICAgICAgICAKICAgIAoKICAgICAgICAgICAgICAgIHZhciBpY29uXzZlNmYzYzdjYjllZjQ5NjI5YTI4MzFlOTFjNzkyZDRjID0gTC5Bd2Vzb21lTWFya2Vycy5pY29uKHsKICAgICAgICAgICAgICAgICAgICBpY29uOiAndGludCcsCiAgICAgICAgICAgICAgICAgICAgaWNvbkNvbG9yOiAnd2hpdGUnLAogICAgICAgICAgICAgICAgICAgIG1hcmtlckNvbG9yOiAncmVkJywKICAgICAgICAgICAgICAgICAgICBwcmVmaXg6ICdnbHlwaGljb24nLAogICAgICAgICAgICAgICAgICAgIGV4dHJhQ2xhc3NlczogJ2ZhLXJvdGF0ZS0wJwogICAgICAgICAgICAgICAgICAgIH0pOwogICAgICAgICAgICAgICAgbWFya2VyXzYzN2JjODc2NzMxMDQ0Y2Y5YmQ1YmU5ZmUzZGZlOTc1LnNldEljb24oaWNvbl82ZTZmM2M3Y2I5ZWY0OTYyOWEyODMxZTkxYzc5MmQ0Yyk7CiAgICAgICAgICAgIAogICAgCiAgICAgICAgICAgIHZhciBwb3B1cF9iMjQxMzJlNGYwZmE0YjU4YmYxZDk3M2FjZDQwMjllYSA9IEwucG9wdXAoe21heFdpZHRoOiAnMTAwJScKICAgICAgICAgICAgCiAgICAgICAgICAgIH0pOwoKICAgICAgICAgICAgCiAgICAgICAgICAgICAgICB2YXIgaHRtbF82MTc5NDVhYWY4ZTI0YzdlOGNkODRhNDc4OTI5NWEwMyA9ICQoYDxkaXYgaWQ9Imh0bWxfNjE3OTQ1YWFmOGUyNGM3ZThjZDg0YTQ3ODkyOTVhMDMiIHN0eWxlPSJ3aWR0aDogMTAwLjAlOyBoZWlnaHQ6IDEwMC4wJTsiPkdvdmVybm1lbnQgRVNJIEhvc3BpdGFsLCBDb2ltYmF0b3JlPC9kaXY+YClbMF07CiAgICAgICAgICAgICAgICBwb3B1cF9iMjQxMzJlNGYwZmE0YjU4YmYxZDk3M2FjZDQwMjllYS5zZXRDb250ZW50KGh0bWxfNjE3OTQ1YWFmOGUyNGM3ZThjZDg0YTQ3ODkyOTVhMDMpOwogICAgICAgICAgICAKCiAgICAgICAgICAgIG1hcmtlcl82MzdiYzg3NjczMTA0NGNmOWJkNWJlOWZlM2RmZTk3NS5iaW5kUG9wdXAocG9wdXBfYjI0MTMyZTRmMGZhNGI1OGJmMWQ5NzNhY2Q0MDI5ZWEpCiAgICAgICAgICAgIDsKCiAgICAgICAgICAgIAogICAgICAgIAogICAgCiAgICAgICAgdmFyIG1hcmtlcl85YmQxYzhlYjk5YTk0NTEzOGE2ZGZmNDAxMDcxZDU0MyA9IEwubWFya2VyKAogICAgICAgICAgICBbMTEuOTk0MzYzLCA3OS41MTUxOV0sCiAgICAgICAgICAgIHsKICAgICAgICAgICAgICAgIGljb246IG5ldyBMLkljb24uRGVmYXVsdCgpLAogICAgICAgICAgICAgICAgfQogICAgICAgICAgICApLmFkZFRvKG1hcF8xMGZhNjRmMjgyNTE0YjIwYTZmMTM3YTdmZTNjZjU0Yik7CiAgICAgICAgCiAgICAKCiAgICAgICAgICAgICAgICB2YXIgaWNvbl9jMDliODFhOWI1ZDQ0N2QyOGE4MDk4MzIyZTY1M2U5YyA9IEwuQXdlc29tZU1hcmtlcnMuaWNvbih7CiAgICAgICAgICAgICAgICAgICAgaWNvbjogJ3RpbnQnLAogICAgICAgICAgICAgICAgICAgIGljb25Db2xvcjogJ3doaXRlJywKICAgICAgICAgICAgICAgICAgICBtYXJrZXJDb2xvcjogJ3JlZCcsCiAgICAgICAgICAgICAgICAgICAgcHJlZml4OiAnZ2x5cGhpY29uJywKICAgICAgICAgICAgICAgICAgICBleHRyYUNsYXNzZXM6ICdmYS1yb3RhdGUtMCcKICAgICAgICAgICAgICAgICAgICB9KTsKICAgICAgICAgICAgICAgIG1hcmtlcl85YmQxYzhlYjk5YTk0NTEzOGE2ZGZmNDAxMDcxZDU0My5zZXRJY29uKGljb25fYzA5YjgxYTliNWQ0NDdkMjhhODA5ODMyMmU2NTNlOWMpOwogICAgICAgICAgICAKICAgIAogICAgICAgICAgICB2YXIgcG9wdXBfMGVlMmE2ZWVlNWE5NDM0Zjg1ZGE4NjYyNmJhOWQxOWIgPSBMLnBvcHVwKHttYXhXaWR0aDogJzEwMCUnCiAgICAgICAgICAgIAogICAgICAgICAgICB9KTsKCiAgICAgICAgICAgIAogICAgICAgICAgICAgICAgdmFyIGh0bWxfYmRlNTBkZjU2NDM5NGM4OWIwZGY2MTgwMThjYjA3N2IgPSAkKGA8ZGl2IGlkPSJodG1sX2JkZTUwZGY1NjQzOTRjODliMGRmNjE4MDE4Y2IwNzdiIiBzdHlsZT0id2lkdGg6IDEwMC4wJTsgaGVpZ2h0OiAxMDAuMCU7Ij5Hb3Zlcm5tZW50IFZpbHVwdXJhbSBNZWRpY2FsIENvbGxlZ2UgYW5kIEhvc3BpdGFsLCBWaWxsdXB1cmFtPC9kaXY+YClbMF07CiAgICAgICAgICAgICAgICBwb3B1cF8wZWUyYTZlZWU1YTk0MzRmODVkYTg2NjI2YmE5ZDE5Yi5zZXRDb250ZW50KGh0bWxfYmRlNTBkZjU2NDM5NGM4OWIwZGY2MTgwMThjYjA3N2IpOwogICAgICAgICAgICAKCiAgICAgICAgICAgIG1hcmtlcl85YmQxYzhlYjk5YTk0NTEzOGE2ZGZmNDAxMDcxZDU0My5iaW5kUG9wdXAocG9wdXBfMGVlMmE2ZWVlNWE5NDM0Zjg1ZGE4NjYyNmJhOWQxOWIpCiAgICAgICAgICAgIDsKCiAgICAgICAgICAgIAogICAgICAgIAogICAgCiAgICAgICAgdmFyIG1hcmtlcl82MzkxNzRlN2NjNGY0OTQ1OGVmZjhiZDE5ZmIwMDJlZiA9IEwubWFya2VyKAogICAgICAgICAgICBbMTIuMjc0NDY0LCA3OS4wNzkxMjFdLAogICAgICAgICAgICB7CiAgICAgICAgICAgICAgICBpY29uOiBuZXcgTC5JY29uLkRlZmF1bHQoKSwKICAgICAgICAgICAgICAgIH0KICAgICAgICAgICAgKS5hZGRUbyhtYXBfMTBmYTY0ZjI4MjUxNGIyMGE2ZjEzN2E3ZmUzY2Y1NGIpOwogICAgICAgIAogICAgCgogICAgICAgICAgICAgICAgdmFyIGljb25fMGVkMjI2MmY1ZWViNDJiMjllMmEzYTM2ODk3Y2I4MTkgPSBMLkF3ZXNvbWVNYXJrZXJzLmljb24oewogICAgICAgICAgICAgICAgICAgIGljb246ICd0aW50JywKICAgICAgICAgICAgICAgICAgICBpY29uQ29sb3I6ICd3aGl0ZScsCiAgICAgICAgICAgICAgICAgICAgbWFya2VyQ29sb3I6ICdyZWQnLAogICAgICAgICAgICAgICAgICAgIHByZWZpeDogJ2dseXBoaWNvbicsCiAgICAgICAgICAgICAgICAgICAgZXh0cmFDbGFzc2VzOiAnZmEtcm90YXRlLTAnCiAgICAgICAgICAgICAgICAgICAgfSk7CiAgICAgICAgICAgICAgICBtYXJrZXJfNjM5MTc0ZTdjYzRmNDk0NThlZmY4YmQxOWZiMDAyZWYuc2V0SWNvbihpY29uXzBlZDIyNjJmNWVlYjQyYjI5ZTJhM2EzNjg5N2NiODE5KTsKICAgICAgICAgICAgCiAgICAKICAgICAgICAgICAgdmFyIHBvcHVwXzZmNjcxZWZiMjEyYjQ1OWFiMTQ4OGRkM2ZiYzMzMjM3ID0gTC5wb3B1cCh7bWF4V2lkdGg6ICcxMDAlJwogICAgICAgICAgICAKICAgICAgICAgICAgfSk7CgogICAgICAgICAgICAKICAgICAgICAgICAgICAgIHZhciBodG1sXzI4YjExZTljNTZmMjQ0ZTFiN2RiZDRhNjFmYzBiYWM5ID0gJChgPGRpdiBpZD0iaHRtbF8yOGIxMWU5YzU2ZjI0NGUxYjdkYmQ0YTYxZmMwYmFjOSIgc3R5bGU9IndpZHRoOiAxMDAuMCU7IGhlaWdodDogMTAwLjAlOyI+R292ZXJubWVudCBUaGlydXZhbm5hbWFsYWkgTWVkaWNhbCBDb2xsZWdlIGFuZCBIb3NwaXRhbCwgVGhpcnV2YW5uYW1hbGFpPC9kaXY+YClbMF07CiAgICAgICAgICAgICAgICBwb3B1cF82ZjY3MWVmYjIxMmI0NTlhYjE0ODhkZDNmYmMzMzIzNy5zZXRDb250ZW50KGh0bWxfMjhiMTFlOWM1NmYyNDRlMWI3ZGJkNGE2MWZjMGJhYzkpOwogICAgICAgICAgICAKCiAgICAgICAgICAgIG1hcmtlcl82MzkxNzRlN2NjNGY0OTQ1OGVmZjhiZDE5ZmIwMDJlZi5iaW5kUG9wdXAocG9wdXBfNmY2NzFlZmIyMTJiNDU5YWIxNDg4ZGQzZmJjMzMyMzcpCiAgICAgICAgICAgIDsKCiAgICAgICAgICAgIAogICAgICAgIAogICAgCiAgICAgICAgdmFyIG1hcmtlcl9mZDEyMmY2NThkYmU0YTdhODFkN2E3ZDE2YTRhMjQ4NyA9IEwubWFya2VyKAogICAgICAgICAgICBbMTIuMTIzNDQxLCA3OC4xNTc3OTNdLAogICAgICAgICAgICB7CiAgICAgICAgICAgICAgICBpY29uOiBuZXcgTC5JY29uLkRlZmF1bHQoKSwKICAgICAgICAgICAgICAgIH0KICAgICAgICAgICAgKS5hZGRUbyhtYXBfMTBmYTY0ZjI4MjUxNGIyMGE2ZjEzN2E3ZmUzY2Y1NGIpOwogICAgICAgIAogICAgCgogICAgICAgICAgICAgICAgdmFyIGljb25fMjlkYTk0NDEyODllNDI3MWJmYjkyMmM3NmRiZmJiMTcgPSBMLkF3ZXNvbWVNYXJrZXJzLmljb24oewogICAgICAgICAgICAgICAgICAgIGljb246ICd0aW50JywKICAgICAgICAgICAgICAgICAgICBpY29uQ29sb3I6ICd3aGl0ZScsCiAgICAgICAgICAgICAgICAgICAgbWFya2VyQ29sb3I6ICdyZWQnLAogICAgICAgICAgICAgICAgICAgIHByZWZpeDogJ2dseXBoaWNvbicsCiAgICAgICAgICAgICAgICAgICAgZXh0cmFDbGFzc2VzOiAnZmEtcm90YXRlLTAnCiAgICAgICAgICAgICAgICAgICAgfSk7CiAgICAgICAgICAgICAgICBtYXJrZXJfZmQxMjJmNjU4ZGJlNGE3YTgxZDdhN2QxNmE0YTI0ODcuc2V0SWNvbihpY29uXzI5ZGE5NDQxMjg5ZTQyNzFiZmI5MjJjNzZkYmZiYjE3KTsKICAgICAgICAgICAgCiAgICAKICAgICAgICAgICAgdmFyIHBvcHVwXzg0NDVmYWY2NDk1NzQyNDliNzFmZDY4ZGQzOWJjOWQyID0gTC5wb3B1cCh7bWF4V2lkdGg6ICcxMDAlJwogICAgICAgICAgICAKICAgICAgICAgICAgfSk7CgogICAgICAgICAgICAKICAgICAgICAgICAgICAgIHZhciBodG1sXzFmNWU1MGJkNzA2NDQ3NmViMDMzMTk0MGVhMGZkNjQ4ID0gJChgPGRpdiBpZD0iaHRtbF8xZjVlNTBiZDcwNjQ0NzZlYjAzMzE5NDBlYTBmZDY0OCIgc3R5bGU9IndpZHRoOiAxMDAuMCU7IGhlaWdodDogMTAwLjAlOyI+R292ZXJubWVudCBEaGFybWFwdXJpIE1lZGljYWwgQ29sbGVnZSBhbmQgSG9zcGl0YWwsIERoYXJtYXB1cmk8L2Rpdj5gKVswXTsKICAgICAgICAgICAgICAgIHBvcHVwXzg0NDVmYWY2NDk1NzQyNDliNzFmZDY4ZGQzOWJjOWQyLnNldENvbnRlbnQoaHRtbF8xZjVlNTBiZDcwNjQ0NzZlYjAzMzE5NDBlYTBmZDY0OCk7CiAgICAgICAgICAgIAoKICAgICAgICAgICAgbWFya2VyX2ZkMTIyZjY1OGRiZTRhN2E4MWQ3YTdkMTZhNGEyNDg3LmJpbmRQb3B1cChwb3B1cF84NDQ1ZmFmNjQ5NTc0MjQ5YjcxZmQ2OGRkMzliYzlkMikKICAgICAgICAgICAgOwoKICAgICAgICAgICAgCiAgICAgICAgCiAgICAKICAgICAgICB2YXIgbWFya2VyXzQ5ZGMwOTRmODUwOTQ5OWJhZDllYzNlMjU4MDdmODA3ID0gTC5tYXJrZXIoCiAgICAgICAgICAgIFsxMC45NTEyMzUsIDc4LjEwMTE1OF0sCiAgICAgICAgICAgIHsKICAgICAgICAgICAgICAgIGljb246IG5ldyBMLkljb24uRGVmYXVsdCgpLAogICAgICAgICAgICAgICAgfQogICAgICAgICAgICApLmFkZFRvKG1hcF8xMGZhNjRmMjgyNTE0YjIwYTZmMTM3YTdmZTNjZjU0Yik7CiAgICAgICAgCiAgICAKCiAgICAgICAgICAgICAgICB2YXIgaWNvbl80ZGRmZWU1M2Y2NTU0MmM5YWIwYTdiMzAwOWRhYjRmMSA9IEwuQXdlc29tZU1hcmtlcnMuaWNvbih7CiAgICAgICAgICAgICAgICAgICAgaWNvbjogJ3RpbnQnLAogICAgICAgICAgICAgICAgICAgIGljb25Db2xvcjogJ3doaXRlJywKICAgICAgICAgICAgICAgICAgICBtYXJrZXJDb2xvcjogJ3JlZCcsCiAgICAgICAgICAgICAgICAgICAgcHJlZml4OiAnZ2x5cGhpY29uJywKICAgICAgICAgICAgICAgICAgICBleHRyYUNsYXNzZXM6ICdmYS1yb3RhdGUtMCcKICAgICAgICAgICAgICAgICAgICB9KTsKICAgICAgICAgICAgICAgIG1hcmtlcl80OWRjMDk0Zjg1MDk0OTliYWQ5ZWMzZTI1ODA3ZjgwNy5zZXRJY29uKGljb25fNGRkZmVlNTNmNjU1NDJjOWFiMGE3YjMwMDlkYWI0ZjEpOwogICAgICAgICAgICAKICAgIAogICAgICAgICAgICB2YXIgcG9wdXBfODQ2ODIzYTRhZDkyNDhjMDg3NzlhNTljZGEyYzU5NjYgPSBMLnBvcHVwKHttYXhXaWR0aDogJzEwMCUnCiAgICAgICAgICAgIAogICAgICAgICAgICB9KTsKCiAgICAgICAgICAgIAogICAgICAgICAgICAgICAgdmFyIGh0bWxfN2Y2MWViZjBjMzdlNGE0ZDk2Y2NmN2Y4NjU3YjA2ZmMgPSAkKGA8ZGl2IGlkPSJodG1sXzdmNjFlYmYwYzM3ZTRhNGQ5NmNjZjdmODY1N2IwNmZjIiBzdHlsZT0id2lkdGg6IDEwMC4wJTsgaGVpZ2h0OiAxMDAuMCU7Ij5Hb3Zlcm5tZW50IEthcnVyIE1lZGljYWwgQ29sbGVnZSBhbmQgSG9zcGl0YWwsS2FydXI8L2Rpdj5gKVswXTsKICAgICAgICAgICAgICAgIHBvcHVwXzg0NjgyM2E0YWQ5MjQ4YzA4Nzc5YTU5Y2RhMmM1OTY2LnNldENvbnRlbnQoaHRtbF83ZjYxZWJmMGMzN2U0YTRkOTZjY2Y3Zjg2NTdiMDZmYyk7CiAgICAgICAgICAgIAoKICAgICAgICAgICAgbWFya2VyXzQ5ZGMwOTRmODUwOTQ5OWJhZDllYzNlMjU4MDdmODA3LmJpbmRQb3B1cChwb3B1cF84NDY4MjNhNGFkOTI0OGMwODc3OWE1OWNkYTJjNTk2NikKICAgICAgICAgICAgOwoKICAgICAgICAgICAgCiAgICAgICAgCiAgICAKICAgICAgICB2YXIgbWFya2VyXzU3ZTRmYThiMjFkNTQ4ZWQ4ZThmZTA4OTllNmM3MjQ4ID0gTC5tYXJrZXIoCiAgICAgICAgICAgIFsxMS4zOTU0NzksIDc5LjcxNjA2OF0sCiAgICAgICAgICAgIHsKICAgICAgICAgICAgICAgIGljb246IG5ldyBMLkljb24uRGVmYXVsdCgpLAogICAgICAgICAgICAgICAgfQogICAgICAgICAgICApLmFkZFRvKG1hcF8xMGZhNjRmMjgyNTE0YjIwYTZmMTM3YTdmZTNjZjU0Yik7CiAgICAgICAgCiAgICAKCiAgICAgICAgICAgICAgICB2YXIgaWNvbl83NWVjZTNmZjE1ZjA0NjMyODc4YTk5NjJkMmEzZWMyMyA9IEwuQXdlc29tZU1hcmtlcnMuaWNvbih7CiAgICAgICAgICAgICAgICAgICAgaWNvbjogJ3RpbnQnLAogICAgICAgICAgICAgICAgICAgIGljb25Db2xvcjogJ3doaXRlJywKICAgICAgICAgICAgICAgICAgICBtYXJrZXJDb2xvcjogJ3JlZCcsCiAgICAgICAgICAgICAgICAgICAgcHJlZml4OiAnZ2x5cGhpY29uJywKICAgICAgICAgICAgICAgICAgICBleHRyYUNsYXNzZXM6ICdmYS1yb3RhdGUtMCcKICAgICAgICAgICAgICAgICAgICB9KTsKICAgICAgICAgICAgICAgIG1hcmtlcl81N2U0ZmE4YjIxZDU0OGVkOGU4ZmUwODk5ZTZjNzI0OC5zZXRJY29uKGljb25fNzVlY2UzZmYxNWYwNDYzMjg3OGE5OTYyZDJhM2VjMjMpOwogICAgICAgICAgICAKICAgIAogICAgICAgICAgICB2YXIgcG9wdXBfNDczODQ4Y2I2OTkzNDZjZmJjNmZkMDg0MjdlZDA3ODYgPSBMLnBvcHVwKHttYXhXaWR0aDogJzEwMCUnCiAgICAgICAgICAgIAogICAgICAgICAgICB9KTsKCiAgICAgICAgICAgIAogICAgICAgICAgICAgICAgdmFyIGh0bWxfNTM2MmEzMzgyOGIwNGU0ZGJiYzlmNzk3MzMwYjdkMzggPSAkKGA8ZGl2IGlkPSJodG1sXzUzNjJhMzM4MjhiMDRlNGRiYmM5Zjc5NzMzMGI3ZDM4IiBzdHlsZT0id2lkdGg6IDEwMC4wJTsgaGVpZ2h0OiAxMDAuMCU7Ij5SYWphIE11dGhhaWFoIE1lZGljYWwgQ29sbGVnZSBDaGl0aGFtcGFyYW0sIEN1ZGRhbG9yZTwvZGl2PmApWzBdOwogICAgICAgICAgICAgICAgcG9wdXBfNDczODQ4Y2I2OTkzNDZjZmJjNmZkMDg0MjdlZDA3ODYuc2V0Q29udGVudChodG1sXzUzNjJhMzM4MjhiMDRlNGRiYmM5Zjc5NzMzMGI3ZDM4KTsKICAgICAgICAgICAgCgogICAgICAgICAgICBtYXJrZXJfNTdlNGZhOGIyMWQ1NDhlZDhlOGZlMDg5OWU2YzcyNDguYmluZFBvcHVwKHBvcHVwXzQ3Mzg0OGNiNjk5MzQ2Y2ZiYzZmZDA4NDI3ZWQwNzg2KQogICAgICAgICAgICA7CgogICAgICAgICAgICAKICAgICAgICAKICAgIAogICAgICAgIHZhciBtYXJrZXJfMWNiN2RiNmIyMTc5NGVkNTk2ZjBkZTUyYzAyOGQ0YjEgPSBMLm1hcmtlcigKICAgICAgICAgICAgWzEwLjg5Nzc0MiwgNzguNjkxMDQ2XSwKICAgICAgICAgICAgewogICAgICAgICAgICAgICAgaWNvbjogbmV3IEwuSWNvbi5EZWZhdWx0KCksCiAgICAgICAgICAgICAgICB9CiAgICAgICAgICAgICkuYWRkVG8obWFwXzEwZmE2NGYyODI1MTRiMjBhNmYxMzdhN2ZlM2NmNTRiKTsKICAgICAgICAKICAgIAoKICAgICAgICAgICAgICAgIHZhciBpY29uXzJhNTY2YTMyYzE1NjRlZDM4MWNjNDZmNTVhNmM3MGRkID0gTC5Bd2Vzb21lTWFya2Vycy5pY29uKHsKICAgICAgICAgICAgICAgICAgICBpY29uOiAndGludCcsCiAgICAgICAgICAgICAgICAgICAgaWNvbkNvbG9yOiAnd2hpdGUnLAogICAgICAgICAgICAgICAgICAgIG1hcmtlckNvbG9yOiAncmVkJywKICAgICAgICAgICAgICAgICAgICBwcmVmaXg6ICdnbHlwaGljb24nLAogICAgICAgICAgICAgICAgICAgIGV4dHJhQ2xhc3NlczogJ2ZhLXJvdGF0ZS0wJwogICAgICAgICAgICAgICAgICAgIH0pOwogICAgICAgICAgICAgICAgbWFya2VyXzFjYjdkYjZiMjE3OTRlZDU5NmYwZGU1MmMwMjhkNGIxLnNldEljb24oaWNvbl8yYTU2NmEzMmMxNTY0ZWQzODFjYzQ2ZjU1YTZjNzBkZCk7CiAgICAgICAgICAgIAogICAgCiAgICAgICAgICAgIHZhciBwb3B1cF9kMGEwM2M2NzM3NzE0MzEyODRmNzUzZGM3MmI3MjM2ZCA9IEwucG9wdXAoe21heFdpZHRoOiAnMTAwJScKICAgICAgICAgICAgCiAgICAgICAgICAgIH0pOwoKICAgICAgICAgICAgCiAgICAgICAgICAgICAgICB2YXIgaHRtbF8yMDU2ZTllMzVjMDA0ZGU1OTVjYmE5Mzg1OThmYmNlNiA9ICQoYDxkaXYgaWQ9Imh0bWxfMjA1NmU5ZTM1YzAwNGRlNTk1Y2JhOTM4NTk4ZmJjZTYiIHN0eWxlPSJ3aWR0aDogMTAwLjAlOyBoZWlnaHQ6IDEwMC4wJTsiPk1haGF0bWEgR2FuZGhpIE1lbW9yaWFsIEdvdmVybm1lbnQgSG9zcGl0YWwsIFRyaWNoeTwvZGl2PmApWzBdOwogICAgICAgICAgICAgICAgcG9wdXBfZDBhMDNjNjczNzcxNDMxMjg0Zjc1M2RjNzJiNzIzNmQuc2V0Q29udGVudChodG1sXzIwNTZlOWUzNWMwMDRkZTU5NWNiYTkzODU5OGZiY2U2KTsKICAgICAgICAgICAgCgogICAgICAgICAgICBtYXJrZXJfMWNiN2RiNmIyMTc5NGVkNTk2ZjBkZTUyYzAyOGQ0YjEuYmluZFBvcHVwKHBvcHVwX2QwYTAzYzY3Mzc3MTQzMTI4NGY3NTNkYzcyYjcyMzZkKQogICAgICAgICAgICA7CgogICAgICAgICAgICAKICAgICAgICAKICAgIAogICAgICAgIHZhciBtYXJrZXJfYzM0MDcxODFhMDNmNGZmZTgzZjlhZGE2NGZhZWZjNjkgPSBMLm1hcmtlcigKICAgICAgICAgICAgWzEwLjc1NzczNCwgNzkuMTA0OTMwMDAwMDAwMDFdLAogICAgICAgICAgICB7CiAgICAgICAgICAgICAgICBpY29uOiBuZXcgTC5JY29uLkRlZmF1bHQoKSwKICAgICAgICAgICAgICAgIH0KICAgICAgICAgICAgKS5hZGRUbyhtYXBfMTBmYTY0ZjI4MjUxNGIyMGE2ZjEzN2E3ZmUzY2Y1NGIpOwogICAgICAgIAogICAgCgogICAgICAgICAgICAgICAgdmFyIGljb25fODEyNDNkMWYyYTY1NGMxYjk1YjI2MTIyYmYxMGUzMWQgPSBMLkF3ZXNvbWVNYXJrZXJzLmljb24oewogICAgICAgICAgICAgICAgICAgIGljb246ICd0aW50JywKICAgICAgICAgICAgICAgICAgICBpY29uQ29sb3I6ICd3aGl0ZScsCiAgICAgICAgICAgICAgICAgICAgbWFya2VyQ29sb3I6ICdyZWQnLAogICAgICAgICAgICAgICAgICAgIHByZWZpeDogJ2dseXBoaWNvbicsCiAgICAgICAgICAgICAgICAgICAgZXh0cmFDbGFzc2VzOiAnZmEtcm90YXRlLTAnCiAgICAgICAgICAgICAgICAgICAgfSk7CiAgICAgICAgICAgICAgICBtYXJrZXJfYzM0MDcxODFhMDNmNGZmZTgzZjlhZGE2NGZhZWZjNjkuc2V0SWNvbihpY29uXzgxMjQzZDFmMmE2NTRjMWI5NWIyNjEyMmJmMTBlMzFkKTsKICAgICAgICAgICAgCiAgICAKICAgICAgICAgICAgdmFyIHBvcHVwX2NmNjI0NmQzNmQ0OTQ5MWI4NTAyZTc5OWU2OGYzMWY3ID0gTC5wb3B1cCh7bWF4V2lkdGg6ICcxMDAlJwogICAgICAgICAgICAKICAgICAgICAgICAgfSk7CgogICAgICAgICAgICAKICAgICAgICAgICAgICAgIHZhciBodG1sXzVjNWUwYzgyZWUyOTQ3NmM4OTE5Y2ZkOGEwMDJiODc3ID0gJChgPGRpdiBpZD0iaHRtbF81YzVlMGM4MmVlMjk0NzZjODkxOWNmZDhhMDAyYjg3NyIgc3R5bGU9IndpZHRoOiAxMDAuMCU7IGhlaWdodDogMTAwLjAlOyI+R292ZXJubWVudCBUaGFuamF2dXIgTWVkaWNhbCBDb2xsZWdlIGFuZCBIb3NwaXRhbCwgVGhhbmphdnVyPC9kaXY+YClbMF07CiAgICAgICAgICAgICAgICBwb3B1cF9jZjYyNDZkMzZkNDk0OTFiODUwMmU3OTllNjhmMzFmNy5zZXRDb250ZW50KGh0bWxfNWM1ZTBjODJlZTI5NDc2Yzg5MTljZmQ4YTAwMmI4NzcpOwogICAgICAgICAgICAKCiAgICAgICAgICAgIG1hcmtlcl9jMzQwNzE4MWEwM2Y0ZmZlODNmOWFkYTY0ZmFlZmM2OS5iaW5kUG9wdXAocG9wdXBfY2Y2MjQ2ZDM2ZDQ5NDkxYjg1MDJlNzk5ZTY4ZjMxZjcpCiAgICAgICAgICAgIDsKCiAgICAgICAgICAgIAogICAgICAgIAogICAgCiAgICAgICAgdmFyIG1hcmtlcl8zMTVhODg0MGJiZGQ0ODkzOTE5ZWM5MDQxMGZlZjhlZSA9IEwubWFya2VyKAogICAgICAgICAgICBbOS44Mzk5MzksIDc4LjQ3ODgwOV0sCiAgICAgICAgICAgIHsKICAgICAgICAgICAgICAgIGljb246IG5ldyBMLkljb24uRGVmYXVsdCgpLAogICAgICAgICAgICAgICAgfQogICAgICAgICAgICApLmFkZFRvKG1hcF8xMGZhNjRmMjgyNTE0YjIwYTZmMTM3YTdmZTNjZjU0Yik7CiAgICAgICAgCiAgICAKCiAgICAgICAgICAgICAgICB2YXIgaWNvbl82MWFkMjcwMmYzMTk0MWRjYjAxNGNmYzg4ZTI4OTllNSA9IEwuQXdlc29tZU1hcmtlcnMuaWNvbih7CiAgICAgICAgICAgICAgICAgICAgaWNvbjogJ3RpbnQnLAogICAgICAgICAgICAgICAgICAgIGljb25Db2xvcjogJ3doaXRlJywKICAgICAgICAgICAgICAgICAgICBtYXJrZXJDb2xvcjogJ3JlZCcsCiAgICAgICAgICAgICAgICAgICAgcHJlZml4OiAnZ2x5cGhpY29uJywKICAgICAgICAgICAgICAgICAgICBleHRyYUNsYXNzZXM6ICdmYS1yb3RhdGUtMCcKICAgICAgICAgICAgICAgICAgICB9KTsKICAgICAgICAgICAgICAgIG1hcmtlcl8zMTVhODg0MGJiZGQ0ODkzOTE5ZWM5MDQxMGZlZjhlZS5zZXRJY29uKGljb25fNjFhZDI3MDJmMzE5NDFkY2IwMTRjZmM4OGUyODk5ZTUpOwogICAgICAgICAgICAKICAgIAogICAgICAgICAgICB2YXIgcG9wdXBfMWRjZmJmNTNmNTJlNDI4MjgxMjMyY2EwMDgyNjQ0NTYgPSBMLnBvcHVwKHttYXhXaWR0aDogJzEwMCUnCiAgICAgICAgICAgIAogICAgICAgICAgICB9KTsKCiAgICAgICAgICAgIAogICAgICAgICAgICAgICAgdmFyIGh0bWxfZGNiZjZkNGYwNDc4NDI2N2I0MTE2NDNlYmM3MDMwNTIgPSAkKGA8ZGl2IGlkPSJodG1sX2RjYmY2ZDRmMDQ3ODQyNjdiNDExNjQzZWJjNzAzMDUyIiBzdHlsZT0id2lkdGg6IDEwMC4wJTsgaGVpZ2h0OiAxMDAuMCU7Ij5Hb3Zlcm5tZW50IFNpdmFnYW5nYWkgTWVkaWNhbCBDb2xsZWdlIGFuZCBIb3NwaXRhbCwgU2l2YWdhbmdhaTwvZGl2PmApWzBdOwogICAgICAgICAgICAgICAgcG9wdXBfMWRjZmJmNTNmNTJlNDI4MjgxMjMyY2EwMDgyNjQ0NTYuc2V0Q29udGVudChodG1sX2RjYmY2ZDRmMDQ3ODQyNjdiNDExNjQzZWJjNzAzMDUyKTsKICAgICAgICAgICAgCgogICAgICAgICAgICBtYXJrZXJfMzE1YTg4NDBiYmRkNDg5MzkxOWVjOTA0MTBmZWY4ZWUuYmluZFBvcHVwKHBvcHVwXzFkY2ZiZjUzZjUyZTQyODI4MTIzMmNhMDA4MjY0NDU2KQogICAgICAgICAgICA7CgogICAgICAgICAgICAKICAgICAgICAKICAgIAogICAgICAgIHZhciBtYXJrZXJfZWQ1MjIyMjRhMDliNDdkZWEyYzU5OTE0MmIzZmJjMjQgPSBMLm1hcmtlcigKICAgICAgICAgICAgWzkuOTI4MjUxLCA3OC4xMjk0NDFdLAogICAgICAgICAgICB7CiAgICAgICAgICAgICAgICBpY29uOiBuZXcgTC5JY29uLkRlZmF1bHQoKSwKICAgICAgICAgICAgICAgIH0KICAgICAgICAgICAgKS5hZGRUbyhtYXBfMTBmYTY0ZjI4MjUxNGIyMGE2ZjEzN2E3ZmUzY2Y1NGIpOwogICAgICAgIAogICAgCgogICAgICAgICAgICAgICAgdmFyIGljb25fZmY4MDA1YzZmY2YwNGJiYmFkNjBiNzkwNWM2ZmZiZDkgPSBMLkF3ZXNvbWVNYXJrZXJzLmljb24oewogICAgICAgICAgICAgICAgICAgIGljb246ICd0aW50JywKICAgICAgICAgICAgICAgICAgICBpY29uQ29sb3I6ICd3aGl0ZScsCiAgICAgICAgICAgICAgICAgICAgbWFya2VyQ29sb3I6ICdyZWQnLAogICAgICAgICAgICAgICAgICAgIHByZWZpeDogJ2dseXBoaWNvbicsCiAgICAgICAgICAgICAgICAgICAgZXh0cmFDbGFzc2VzOiAnZmEtcm90YXRlLTAnCiAgICAgICAgICAgICAgICAgICAgfSk7CiAgICAgICAgICAgICAgICBtYXJrZXJfZWQ1MjIyMjRhMDliNDdkZWEyYzU5OTE0MmIzZmJjMjQuc2V0SWNvbihpY29uX2ZmODAwNWM2ZmNmMDRiYmJhZDYwYjc5MDVjNmZmYmQ5KTsKICAgICAgICAgICAgCiAgICAKICAgICAgICAgICAgdmFyIHBvcHVwXzIxYWZmNDZmZjViYTQ4YWM4NzE2ZGFhYjFjOTZjMmY5ID0gTC5wb3B1cCh7bWF4V2lkdGg6ICcxMDAlJwogICAgICAgICAgICAKICAgICAgICAgICAgfSk7CgogICAgICAgICAgICAKICAgICAgICAgICAgICAgIHZhciBodG1sXzk2OTUxYjdjNzJmNTRhOWU4MDhkZjYyOGIyYjY4YzdiID0gJChgPGRpdiBpZD0iaHRtbF85Njk1MWI3YzcyZjU0YTllODA4ZGY2MjhiMmI2OGM3YiIgc3R5bGU9IndpZHRoOiAxMDAuMCU7IGhlaWdodDogMTAwLjAlOyI+R292ZXJubWVudCBNYWR1cmFpIE1lZGljYWwgQ29sbGVnZSBhbmQgSG9zcGl0YWwsIE1hZHVyYWk8L2Rpdj5gKVswXTsKICAgICAgICAgICAgICAgIHBvcHVwXzIxYWZmNDZmZjViYTQ4YWM4NzE2ZGFhYjFjOTZjMmY5LnNldENvbnRlbnQoaHRtbF85Njk1MWI3YzcyZjU0YTllODA4ZGY2MjhiMmI2OGM3Yik7CiAgICAgICAgICAgIAoKICAgICAgICAgICAgbWFya2VyX2VkNTIyMjI0YTA5YjQ3ZGVhMmM1OTkxNDJiM2ZiYzI0LmJpbmRQb3B1cChwb3B1cF8yMWFmZjQ2ZmY1YmE0OGFjODcxNmRhYWIxYzk2YzJmOSkKICAgICAgICAgICAgOwoKICAgICAgICAgICAgCiAgICAgICAgCiAgICAKICAgICAgICB2YXIgbWFya2VyXzE4YjU2NmU2MDM0ZjQ0MjE4MGY4ZjlmNTg2ZGFmNzVjID0gTC5tYXJrZXIoCiAgICAgICAgICAgIFsxMC4wMDgzNzI5OTk5OTk5OTksIDc3LjU1MzIyMV0sCiAgICAgICAgICAgIHsKICAgICAgICAgICAgICAgIGljb246IG5ldyBMLkljb24uRGVmYXVsdCgpLAogICAgICAgICAgICAgICAgfQogICAgICAgICAgICApLmFkZFRvKG1hcF8xMGZhNjRmMjgyNTE0YjIwYTZmMTM3YTdmZTNjZjU0Yik7CiAgICAgICAgCiAgICAKCiAgICAgICAgICAgICAgICB2YXIgaWNvbl82N2MwNDk3NzljZTc0MWM5YjUxMDk2YTQ4OGVkZTQ4OCA9IEwuQXdlc29tZU1hcmtlcnMuaWNvbih7CiAgICAgICAgICAgICAgICAgICAgaWNvbjogJ3RpbnQnLAogICAgICAgICAgICAgICAgICAgIGljb25Db2xvcjogJ3doaXRlJywKICAgICAgICAgICAgICAgICAgICBtYXJrZXJDb2xvcjogJ3JlZCcsCiAgICAgICAgICAgICAgICAgICAgcHJlZml4OiAnZ2x5cGhpY29uJywKICAgICAgICAgICAgICAgICAgICBleHRyYUNsYXNzZXM6ICdmYS1yb3RhdGUtMCcKICAgICAgICAgICAgICAgICAgICB9KTsKICAgICAgICAgICAgICAgIG1hcmtlcl8xOGI1NjZlNjAzNGY0NDIxODBmOGY5ZjU4NmRhZjc1Yy5zZXRJY29uKGljb25fNjdjMDQ5Nzc5Y2U3NDFjOWI1MTA5NmE0ODhlZGU0ODgpOwogICAgICAgICAgICAKICAgIAogICAgICAgICAgICB2YXIgcG9wdXBfMDc0OTEwOTJlYzAwNDRkZjgyOGM1ODQ0YmIxMjMyZTQgPSBMLnBvcHVwKHttYXhXaWR0aDogJzEwMCUnCiAgICAgICAgICAgIAogICAgICAgICAgICB9KTsKCiAgICAgICAgICAgIAogICAgICAgICAgICAgICAgdmFyIGh0bWxfZDgyYzRhNmMyNjk4NDA5YjliYzYwOGJiNjAxMTdlMTAgPSAkKGA8ZGl2IGlkPSJodG1sX2Q4MmM0YTZjMjY5ODQwOWI5YmM2MDhiYjYwMTE3ZTEwIiBzdHlsZT0id2lkdGg6IDEwMC4wJTsgaGVpZ2h0OiAxMDAuMCU7Ij5Hb3Zlcm5tZW50IFRoZW5pIE1lZGljYWwgY29sbGVnZSBIb3NwaXRhbCwgVGhlbmk8L2Rpdj5gKVswXTsKICAgICAgICAgICAgICAgIHBvcHVwXzA3NDkxMDkyZWMwMDQ0ZGY4MjhjNTg0NGJiMTIzMmU0LnNldENvbnRlbnQoaHRtbF9kODJjNGE2YzI2OTg0MDliOWJjNjA4YmI2MDExN2UxMCk7CiAgICAgICAgICAgIAoKICAgICAgICAgICAgbWFya2VyXzE4YjU2NmU2MDM0ZjQ0MjE4MGY4ZjlmNTg2ZGFmNzVjLmJpbmRQb3B1cChwb3B1cF8wNzQ5MTA5MmVjMDA0NGRmODI4YzU4NDRiYjEyMzJlNCkKICAgICAgICAgICAgOwoKICAgICAgICAgICAgCiAgICAgICAgCiAgICAKICAgICAgICB2YXIgbWFya2VyX2FmYjcxOWE2MTg4MzQ1ZDc4MmMxYmI4ZjU5YzM5NjJmID0gTC5tYXJrZXIoCiAgICAgICAgICAgIFs4LjcxNjY5MiwgNzcuNzU1NTYxXSwKICAgICAgICAgICAgewogICAgICAgICAgICAgICAgaWNvbjogbmV3IEwuSWNvbi5EZWZhdWx0KCksCiAgICAgICAgICAgICAgICB9CiAgICAgICAgICAgICkuYWRkVG8obWFwXzEwZmE2NGYyODI1MTRiMjBhNmYxMzdhN2ZlM2NmNTRiKTsKICAgICAgICAKICAgIAoKICAgICAgICAgICAgICAgIHZhciBpY29uXzkzYWEyNGNiNzFhZjQyNDA4MjA2MzNmZjQ5ODkwNjQ4ID0gTC5Bd2Vzb21lTWFya2Vycy5pY29uKHsKICAgICAgICAgICAgICAgICAgICBpY29uOiAndGludCcsCiAgICAgICAgICAgICAgICAgICAgaWNvbkNvbG9yOiAnd2hpdGUnLAogICAgICAgICAgICAgICAgICAgIG1hcmtlckNvbG9yOiAncmVkJywKICAgICAgICAgICAgICAgICAgICBwcmVmaXg6ICdnbHlwaGljb24nLAogICAgICAgICAgICAgICAgICAgIGV4dHJhQ2xhc3NlczogJ2ZhLXJvdGF0ZS0wJwogICAgICAgICAgICAgICAgICAgIH0pOwogICAgICAgICAgICAgICAgbWFya2VyX2FmYjcxOWE2MTg4MzQ1ZDc4MmMxYmI4ZjU5YzM5NjJmLnNldEljb24oaWNvbl85M2FhMjRjYjcxYWY0MjQwODIwNjMzZmY0OTg5MDY0OCk7CiAgICAgICAgICAgIAogICAgCiAgICAgICAgICAgIHZhciBwb3B1cF8xYzQ0NWZkODhlYzY0ZWE0ODgzYjhlZTNkM2U5NzgxMyA9IEwucG9wdXAoe21heFdpZHRoOiAnMTAwJScKICAgICAgICAgICAgCiAgICAgICAgICAgIH0pOwoKICAgICAgICAgICAgCiAgICAgICAgICAgICAgICB2YXIgaHRtbF9lMThlYzE0YTg2NmI0YmI0ODQ2MWU2OTMwOGY4OTdhMyA9ICQoYDxkaXYgaWQ9Imh0bWxfZTE4ZWMxNGE4NjZiNGJiNDg0NjFlNjkzMDhmODk3YTMiIHN0eWxlPSJ3aWR0aDogMTAwLjAlOyBoZWlnaHQ6IDEwMC4wJTsiPkdvdmVybm1lbnQgVGhpcnVuZWx2ZWxpIE1lZGljYWwgQ29sbGVnZSBhbmQgSG9zcGl0YWwsIFRoaXJ1bmVsdmVsbGk8L2Rpdj5gKVswXTsKICAgICAgICAgICAgICAgIHBvcHVwXzFjNDQ1ZmQ4OGVjNjRlYTQ4ODNiOGVlM2QzZTk3ODEzLnNldENvbnRlbnQoaHRtbF9lMThlYzE0YTg2NmI0YmI0ODQ2MWU2OTMwOGY4OTdhMyk7CiAgICAgICAgICAgIAoKICAgICAgICAgICAgbWFya2VyX2FmYjcxOWE2MTg4MzQ1ZDc4MmMxYmI4ZjU5YzM5NjJmLmJpbmRQb3B1cChwb3B1cF8xYzQ0NWZkODhlYzY0ZWE0ODgzYjhlZTNkM2U5NzgxMykKICAgICAgICAgICAgOwoKICAgICAgICAgICAgCiAgICAgICAgCiAgICAKICAgICAgICB2YXIgbWFya2VyXzYyYmM0MzFhOGY0YzQxMTZhYTY3ZjNkODQ3YTFhOWY0ID0gTC5tYXJrZXIoCiAgICAgICAgICAgIFs4LjE3Mzk4LCA3Ny4zOTYxODNdLAogICAgICAgICAgICB7CiAgICAgICAgICAgICAgICBpY29uOiBuZXcgTC5JY29uLkRlZmF1bHQoKSwKICAgICAgICAgICAgICAgIH0KICAgICAgICAgICAgKS5hZGRUbyhtYXBfMTBmYTY0ZjI4MjUxNGIyMGE2ZjEzN2E3ZmUzY2Y1NGIpOwogICAgICAgIAogICAgCgogICAgICAgICAgICAgICAgdmFyIGljb25fNmY4ZGQzMWVjYWVjNDFhMGEyOTM1OWRmNjE1NjY5Y2EgPSBMLkF3ZXNvbWVNYXJrZXJzLmljb24oewogICAgICAgICAgICAgICAgICAgIGljb246ICd0aW50JywKICAgICAgICAgICAgICAgICAgICBpY29uQ29sb3I6ICd3aGl0ZScsCiAgICAgICAgICAgICAgICAgICAgbWFya2VyQ29sb3I6ICdyZWQnLAogICAgICAgICAgICAgICAgICAgIHByZWZpeDogJ2dseXBoaWNvbicsCiAgICAgICAgICAgICAgICAgICAgZXh0cmFDbGFzc2VzOiAnZmEtcm90YXRlLTAnCiAgICAgICAgICAgICAgICAgICAgfSk7CiAgICAgICAgICAgICAgICBtYXJrZXJfNjJiYzQzMWE4ZjRjNDExNmFhNjdmM2Q4NDdhMWE5ZjQuc2V0SWNvbihpY29uXzZmOGRkMzFlY2FlYzQxYTBhMjkzNTlkZjYxNTY2OWNhKTsKICAgICAgICAgICAgCiAgICAKICAgICAgICAgICAgdmFyIHBvcHVwX2NlOWJkY2U0YWM3ZjQwNjE5ZDE4OTk3M2ZhZDIyZmYxID0gTC5wb3B1cCh7bWF4V2lkdGg6ICcxMDAlJwogICAgICAgICAgICAKICAgICAgICAgICAgfSk7CgogICAgICAgICAgICAKICAgICAgICAgICAgICAgIHZhciBodG1sX2ViMjJjMzFjZTZhNDRiM2M4ZWZhMTFkMzA3YWIyZDcyID0gJChgPGRpdiBpZD0iaHRtbF9lYjIyYzMxY2U2YTQ0YjNjOGVmYTExZDMwN2FiMmQ3MiIgc3R5bGU9IndpZHRoOiAxMDAuMCU7IGhlaWdodDogMTAwLjAlOyI+R292ZXJubWVudCBLYW55YWt1bWFyaSBNZWRpY2FsIENvbGxlZ2UgYW5kIEhvc3BpdGFsLCBrYW55YWt1bWFyaTwvZGl2PmApWzBdOwogICAgICAgICAgICAgICAgcG9wdXBfY2U5YmRjZTRhYzdmNDA2MTlkMTg5OTczZmFkMjJmZjEuc2V0Q29udGVudChodG1sX2ViMjJjMzFjZTZhNDRiM2M4ZWZhMTFkMzA3YWIyZDcyKTsKICAgICAgICAgICAgCgogICAgICAgICAgICBtYXJrZXJfNjJiYzQzMWE4ZjRjNDExNmFhNjdmM2Q4NDdhMWE5ZjQuYmluZFBvcHVwKHBvcHVwX2NlOWJkY2U0YWM3ZjQwNjE5ZDE4OTk3M2ZhZDIyZmYxKQogICAgICAgICAgICA7CgogICAgICAgICAgICAKICAgICAgICAKICAgIAogICAgICAgIHZhciBtYXJrZXJfZWQ5NDU1MmZkZDQ1NDNmZTliMWYzMzc3Mjc0ODRkZjcgPSBMLm1hcmtlcigKICAgICAgICAgICAgWzEwLjc3NTc5NSwgNzkuNjA2MDA2OTk5OTk5OTldLAogICAgICAgICAgICB7CiAgICAgICAgICAgICAgICBpY29uOiBuZXcgTC5JY29uLkRlZmF1bHQoKSwKICAgICAgICAgICAgICAgIH0KICAgICAgICAgICAgKS5hZGRUbyhtYXBfMTBmYTY0ZjI4MjUxNGIyMGE2ZjEzN2E3ZmUzY2Y1NGIpOwogICAgICAgIAogICAgCgogICAgICAgICAgICAgICAgdmFyIGljb25fNGM3ODhmNGRiMTBmNDI1OTgwNjY0YWJhODMxYjk0MGIgPSBMLkF3ZXNvbWVNYXJrZXJzLmljb24oewogICAgICAgICAgICAgICAgICAgIGljb246ICd0aW50JywKICAgICAgICAgICAgICAgICAgICBpY29uQ29sb3I6ICd3aGl0ZScsCiAgICAgICAgICAgICAgICAgICAgbWFya2VyQ29sb3I6ICdyZWQnLAogICAgICAgICAgICAgICAgICAgIHByZWZpeDogJ2dseXBoaWNvbicsCiAgICAgICAgICAgICAgICAgICAgZXh0cmFDbGFzc2VzOiAnZmEtcm90YXRlLTAnCiAgICAgICAgICAgICAgICAgICAgfSk7CiAgICAgICAgICAgICAgICBtYXJrZXJfZWQ5NDU1MmZkZDQ1NDNmZTliMWYzMzc3Mjc0ODRkZjcuc2V0SWNvbihpY29uXzRjNzg4ZjRkYjEwZjQyNTk4MDY2NGFiYTgzMWI5NDBiKTsKICAgICAgICAgICAgCiAgICAKICAgICAgICAgICAgdmFyIHBvcHVwXzJmNjEyY2FlZTgyNjQ3MjNiMTVjZjRhZGQ0NDliYzAyID0gTC5wb3B1cCh7bWF4V2lkdGg6ICcxMDAlJwogICAgICAgICAgICAKICAgICAgICAgICAgfSk7CgogICAgICAgICAgICAKICAgICAgICAgICAgICAgIHZhciBodG1sX2VkNDY5OWM4YWIyNTRhNTZiMTExMWY4YThiMjAyOWE1ID0gJChgPGRpdiBpZD0iaHRtbF9lZDQ2OTljOGFiMjU0YTU2YjExMTFmOGE4YjIwMjlhNSIgc3R5bGU9IndpZHRoOiAxMDAuMCU7IGhlaWdodDogMTAwLjAlOyI+R292ZXJubWVudFRoaXJ1dmFydXIgTWVkaWNhbCBDb2xsZWdlIGFuZCBIb3NwaXRhbCwgVGhpcnV2YXJ1cjwvZGl2PmApWzBdOwogICAgICAgICAgICAgICAgcG9wdXBfMmY2MTJjYWVlODI2NDcyM2IxNWNmNGFkZDQ0OWJjMDIuc2V0Q29udGVudChodG1sX2VkNDY5OWM4YWIyNTRhNTZiMTExMWY4YThiMjAyOWE1KTsKICAgICAgICAgICAgCgogICAgICAgICAgICBtYXJrZXJfZWQ5NDU1MmZkZDQ1NDNmZTliMWYzMzc3Mjc0ODRkZjcuYmluZFBvcHVwKHBvcHVwXzJmNjEyY2FlZTgyNjQ3MjNiMTVjZjRhZGQ0NDliYzAyKQogICAgICAgICAgICA7CgogICAgICAgICAgICAKICAgICAgICAKICAgIAoKICAgICAgICAgICAgdmFyIGNpcmNsZV9jMmM3OTFhZGIxZDk0M2NjOWE2NWI1ZDU1ZTg5MDUyNyA9IEwuY2lyY2xlKAogICAgICAgICAgICAgICAgWzExLjAzNDI5NiwgNzYuOTQwMzY3XSwKICAgICAgICAgICAgICAgIHsKICAiYnViYmxpbmdNb3VzZUV2ZW50cyI6IHRydWUsCiAgImNvbG9yIjogImNyaW1zb24iLAogICJkYXNoQXJyYXkiOiBudWxsLAogICJkYXNoT2Zmc2V0IjogbnVsbCwKICAiZmlsbCI6IGZhbHNlLAogICJmaWxsQ29sb3IiOiAiY3JpbXNvbiIsCiAgImZpbGxPcGFjaXR5IjogMC4yLAogICJmaWxsUnVsZSI6ICJldmVub2RkIiwKICAibGluZUNhcCI6ICJyb3VuZCIsCiAgImxpbmVKb2luIjogInJvdW5kIiwKICAib3BhY2l0eSI6IDEuMCwKICAicmFkaXVzIjogNTAwLAogICJzdHJva2UiOiB0cnVlLAogICJ3ZWlnaHQiOiAzCn0KICAgICAgICAgICAgICAgICkKICAgICAgICAgICAgICAgIC5hZGRUbyhtYXBfMTBmYTY0ZjI4MjUxNGIyMGE2ZjEzN2E3ZmUzY2Y1NGIpOwogICAgICAgICAgICAKICAgIAogICAgICAgICAgICB2YXIgcG9wdXBfYjIzMDUxNGM3Y2RhNGJhYmE4YWQyNTBkMmMxZTFmNWIgPSBMLnBvcHVwKHttYXhXaWR0aDogJzEwMCUnCiAgICAgICAgICAgIAogICAgICAgICAgICB9KTsKCiAgICAgICAgICAgIAogICAgICAgICAgICAgICAgdmFyIGh0bWxfMDllOTU3NjMwNjNiNDBiNjkxNjEyMmUyYzhhYzkxN2UgPSAkKGA8ZGl2IGlkPSJodG1sXzA5ZTk1NzYzMDYzYjQwYjY5MTYxMjJlMmM4YWM5MTdlIiBzdHlsZT0id2lkdGg6IDEwMC4wJTsgaGVpZ2h0OiAxMDAuMCU7Ij5LSyBQdWR1cjwvZGl2PmApWzBdOwogICAgICAgICAgICAgICAgcG9wdXBfYjIzMDUxNGM3Y2RhNGJhYmE4YWQyNTBkMmMxZTFmNWIuc2V0Q29udGVudChodG1sXzA5ZTk1NzYzMDYzYjQwYjY5MTYxMjJlMmM4YWM5MTdlKTsKICAgICAgICAgICAgCgogICAgICAgICAgICBjaXJjbGVfYzJjNzkxYWRiMWQ5NDNjYzlhNjViNWQ1NWU4OTA1MjcuYmluZFBvcHVwKHBvcHVwX2IyMzA1MTRjN2NkYTRiYWJhOGFkMjUwZDJjMWUxZjViKQogICAgICAgICAgICA7CgogICAgICAgICAgICAKICAgICAgICAKICAgIAoKICAgICAgICAgICAgdmFyIGNpcmNsZV8zOGFkYWIxNjE5MmU0ZTRhOGYzYzg2Nzc2Zjk4ZGVlNCA9IEwuY2lyY2xlKAogICAgICAgICAgICAgICAgWzEwLjk2NDY2NiwgNzYuOTg4OF0sCiAgICAgICAgICAgICAgICB7CiAgImJ1YmJsaW5nTW91c2VFdmVudHMiOiB0cnVlLAogICJjb2xvciI6ICJjcmltc29uIiwKICAiZGFzaEFycmF5IjogbnVsbCwKICAiZGFzaE9mZnNldCI6IG51bGwsCiAgImZpbGwiOiBmYWxzZSwKICAiZmlsbENvbG9yIjogImNyaW1zb24iLAogICJmaWxsT3BhY2l0eSI6IDAuMiwKICAiZmlsbFJ1bGUiOiAiZXZlbm9kZCIsCiAgImxpbmVDYXAiOiAicm91bmQiLAogICJsaW5lSm9pbiI6ICJyb3VuZCIsCiAgIm9wYWNpdHkiOiAxLjAsCiAgInJhZGl1cyI6IDUwMCwKICAic3Ryb2tlIjogdHJ1ZSwKICAid2VpZ2h0IjogMwp9CiAgICAgICAgICAgICAgICApCiAgICAgICAgICAgICAgICAuYWRkVG8obWFwXzEwZmE2NGYyODI1MTRiMjBhNmYxMzdhN2ZlM2NmNTRiKTsKICAgICAgICAgICAgCiAgICAKICAgICAgICAgICAgdmFyIHBvcHVwXzQ4MmZhN2RmNjQ1ZjQyZGE4YmQ3YTg0YmU5ZGQxNzc3ID0gTC5wb3B1cCh7bWF4V2lkdGg6ICcxMDAlJwogICAgICAgICAgICAKICAgICAgICAgICAgfSk7CgogICAgICAgICAgICAKICAgICAgICAgICAgICAgIHZhciBodG1sX2RiOTI4YzQxOTViNjQ1OTM5MjQ1ODYyMGJhNTU2NmRkID0gJChgPGRpdiBpZD0iaHRtbF9kYjkyOGM0MTk1YjY0NTkzOTI0NTg2MjBiYTU1NjZkZCIgc3R5bGU9IndpZHRoOiAxMDAuMCU7IGhlaWdodDogMTAwLjAlOyI+UG9kYW51ciBSYWlsd2F5IFN0YXRpb248L2Rpdj5gKVswXTsKICAgICAgICAgICAgICAgIHBvcHVwXzQ4MmZhN2RmNjQ1ZjQyZGE4YmQ3YTg0YmU5ZGQxNzc3LnNldENvbnRlbnQoaHRtbF9kYjkyOGM0MTk1YjY0NTkzOTI0NTg2MjBiYTU1NjZkZCk7CiAgICAgICAgICAgIAoKICAgICAgICAgICAgY2lyY2xlXzM4YWRhYjE2MTkyZTRlNGE4ZjNjODY3NzZmOThkZWU0LmJpbmRQb3B1cChwb3B1cF80ODJmYTdkZjY0NWY0MmRhOGJkN2E4NGJlOWRkMTc3NykKICAgICAgICAgICAgOwoKICAgICAgICAgICAgCiAgICAgICAgCiAgICAKCiAgICAgICAgICAgIHZhciBjaXJjbGVfZjc1NTVkMmUyNmFjNGY1ZDg5NTNlMjI0Nzk1YzU3Y2EgPSBMLmNpcmNsZSgKICAgICAgICAgICAgICAgIFsxMC45NjE3MzUsIDc2Ljk3MjE1OV0sCiAgICAgICAgICAgICAgICB7CiAgImJ1YmJsaW5nTW91c2VFdmVudHMiOiB0cnVlLAogICJjb2xvciI6ICJjcmltc29uIiwKICAiZGFzaEFycmF5IjogbnVsbCwKICAiZGFzaE9mZnNldCI6IG51bGwsCiAgImZpbGwiOiBmYWxzZSwKICAiZmlsbENvbG9yIjogImNyaW1zb24iLAogICJmaWxsT3BhY2l0eSI6IDAuMiwKICAiZmlsbFJ1bGUiOiAiZXZlbm9kZCIsCiAgImxpbmVDYXAiOiAicm91bmQiLAogICJsaW5lSm9pbiI6ICJyb3VuZCIsCiAgIm9wYWNpdHkiOiAxLjAsCiAgInJhZGl1cyI6IDUwMCwKICAic3Ryb2tlIjogdHJ1ZSwKICAid2VpZ2h0IjogMwp9CiAgICAgICAgICAgICAgICApCiAgICAgICAgICAgICAgICAuYWRkVG8obWFwXzEwZmE2NGYyODI1MTRiMjBhNmYxMzdhN2ZlM2NmNTRiKTsKICAgICAgICAgICAgCiAgICAKICAgICAgICAgICAgdmFyIHBvcHVwXzE1MTZjMjZkNWYxMjRhMWM5MmFmNjBkYmVkM2IyZTA2ID0gTC5wb3B1cCh7bWF4V2lkdGg6ICcxMDAlJwogICAgICAgICAgICAKICAgICAgICAgICAgfSk7CgogICAgICAgICAgICAKICAgICAgICAgICAgICAgIHZhciBodG1sX2M2NWE0OTA0Y2VmMzQyNjdiZmM5MzUwNGZiZDBiNjgwID0gJChgPGRpdiBpZD0iaHRtbF9jNjVhNDkwNGNlZjM0MjY3YmZjOTM1MDRmYmQwYjY4MCIgc3R5bGU9IndpZHRoOiAxMDAuMCU7IGhlaWdodDogMTAwLjAlOyI+U3VuZGFyYXB1cmFtPC9kaXY+YClbMF07CiAgICAgICAgICAgICAgICBwb3B1cF8xNTE2YzI2ZDVmMTI0YTFjOTJhZjYwZGJlZDNiMmUwNi5zZXRDb250ZW50KGh0bWxfYzY1YTQ5MDRjZWYzNDI2N2JmYzkzNTA0ZmJkMGI2ODApOwogICAgICAgICAgICAKCiAgICAgICAgICAgIGNpcmNsZV9mNzU1NWQyZTI2YWM0ZjVkODk1M2UyMjQ3OTVjNTdjYS5iaW5kUG9wdXAocG9wdXBfMTUxNmMyNmQ1ZjEyNGExYzkyYWY2MGRiZWQzYjJlMDYpCiAgICAgICAgICAgIDsKCiAgICAgICAgICAgIAogICAgICAgIAogICAgCgogICAgICAgICAgICB2YXIgY2lyY2xlXzZiODc4M2UyNDE0OTQ2MTM4NTM0NThiYjA2NzMyZTY3ID0gTC5jaXJjbGUoCiAgICAgICAgICAgICAgICBbMTAuOTU2MjQzLCA3Ni45NTE3N10sCiAgICAgICAgICAgICAgICB7CiAgImJ1YmJsaW5nTW91c2VFdmVudHMiOiB0cnVlLAogICJjb2xvciI6ICJjcmltc29uIiwKICAiZGFzaEFycmF5IjogbnVsbCwKICAiZGFzaE9mZnNldCI6IG51bGwsCiAgImZpbGwiOiBmYWxzZSwKICAiZmlsbENvbG9yIjogImNyaW1zb24iLAogICJmaWxsT3BhY2l0eSI6IDAuMiwKICAiZmlsbFJ1bGUiOiAiZXZlbm9kZCIsCiAgImxpbmVDYXAiOiAicm91bmQiLAogICJsaW5lSm9pbiI6ICJyb3VuZCIsCiAgIm9wYWNpdHkiOiAxLjAsCiAgInJhZGl1cyI6IDUwMCwKICAic3Ryb2tlIjogdHJ1ZSwKICAid2VpZ2h0IjogMwp9CiAgICAgICAgICAgICAgICApCiAgICAgICAgICAgICAgICAuYWRkVG8obWFwXzEwZmE2NGYyODI1MTRiMjBhNmYxMzdhN2ZlM2NmNTRiKTsKICAgICAgICAgICAgCiAgICAKICAgICAgICAgICAgdmFyIHBvcHVwXzk3NDcxYTljYjk0YTRhYTdiNTBiMGJkMTM1MjAwMzBkID0gTC5wb3B1cCh7bWF4V2lkdGg6ICcxMDAlJwogICAgICAgICAgICAKICAgICAgICAgICAgfSk7CgogICAgICAgICAgICAKICAgICAgICAgICAgICAgIHZhciBodG1sX2ZjYjg2ZTczMjQ2NDQzNTE4NDRjNzllMzY3MWIwOTkwID0gJChgPGRpdiBpZD0iaHRtbF9mY2I4NmU3MzI0NjQ0MzUxODQ0Yzc5ZTM2NzFiMDk5MCIgc3R5bGU9IndpZHRoOiAxMDAuMCU7IGhlaWdodDogMTAwLjAlOyI+S3VuaXlhbXV0aHVyPC9kaXY+YClbMF07CiAgICAgICAgICAgICAgICBwb3B1cF85NzQ3MWE5Y2I5NGE0YWE3YjUwYjBiZDEzNTIwMDMwZC5zZXRDb250ZW50KGh0bWxfZmNiODZlNzMyNDY0NDM1MTg0NGM3OWUzNjcxYjA5OTApOwogICAgICAgICAgICAKCiAgICAgICAgICAgIGNpcmNsZV82Yjg3ODNlMjQxNDk0NjEzODUzNDU4YmIwNjczMmU2Ny5iaW5kUG9wdXAocG9wdXBfOTc0NzFhOWNiOTRhNGFhN2I1MGIwYmQxMzUyMDAzMGQpCiAgICAgICAgICAgIDsKCiAgICAgICAgICAgIAogICAgICAgIAogICAgCgogICAgICAgICAgICB2YXIgY2lyY2xlX2E0ODlmZGEwNTRkZjRkODFiNWJhYWIxZjU0NGE4ZWMzID0gTC5jaXJjbGUoCiAgICAgICAgICAgICAgICBbMTEuMDQ3NzU5LCA3Ni45NDUzMzRdLAogICAgICAgICAgICAgICAgewogICJidWJibGluZ01vdXNlRXZlbnRzIjogdHJ1ZSwKICAiY29sb3IiOiAiY3JpbXNvbiIsCiAgImRhc2hBcnJheSI6IG51bGwsCiAgImRhc2hPZmZzZXQiOiBudWxsLAogICJmaWxsIjogZmFsc2UsCiAgImZpbGxDb2xvciI6ICJjcmltc29uIiwKICAiZmlsbE9wYWNpdHkiOiAwLjIsCiAgImZpbGxSdWxlIjogImV2ZW5vZGQiLAogICJsaW5lQ2FwIjogInJvdW5kIiwKICAibGluZUpvaW4iOiAicm91bmQiLAogICJvcGFjaXR5IjogMS4wLAogICJyYWRpdXMiOiA1MDAsCiAgInN0cm9rZSI6IHRydWUsCiAgIndlaWdodCI6IDMKfQogICAgICAgICAgICAgICAgKQogICAgICAgICAgICAgICAgLmFkZFRvKG1hcF8xMGZhNjRmMjgyNTE0YjIwYTZmMTM3YTdmZTNjZjU0Yik7CiAgICAgICAgICAgIAogICAgCiAgICAgICAgICAgIHZhciBwb3B1cF85OGZhNmZiNTQ4ZWU0Yjg4OWY2NTUwMzA5MzlhZTA5YiA9IEwucG9wdXAoe21heFdpZHRoOiAnMTAwJScKICAgICAgICAgICAgCiAgICAgICAgICAgIH0pOwoKICAgICAgICAgICAgCiAgICAgICAgICAgICAgICB2YXIgaHRtbF83NTc5MWE4YjVmMDE0NWRkYWY2NDkwYzI2YTQ1MGIzOSA9ICQoYDxkaXYgaWQ9Imh0bWxfNzU3OTFhOGI1ZjAxNDVkZGFmNjQ5MGMyNmE0NTBiMzkiIHN0eWxlPSJ3aWR0aDogMTAwLjAlOyBoZWlnaHQ6IDEwMC4wJTsiPkthdnVuZGFtcGFsYXlhbTwvZGl2PmApWzBdOwogICAgICAgICAgICAgICAgcG9wdXBfOThmYTZmYjU0OGVlNGI4ODlmNjU1MDMwOTM5YWUwOWIuc2V0Q29udGVudChodG1sXzc1NzkxYThiNWYwMTQ1ZGRhZjY0OTBjMjZhNDUwYjM5KTsKICAgICAgICAgICAgCgogICAgICAgICAgICBjaXJjbGVfYTQ4OWZkYTA1NGRmNGQ4MWI1YmFhYjFmNTQ0YThlYzMuYmluZFBvcHVwKHBvcHVwXzk4ZmE2ZmI1NDhlZTRiODg5ZjY1NTAzMDkzOWFlMDliKQogICAgICAgICAgICA7CgogICAgICAgICAgICAKICAgICAgICAKICAgIAoKICAgICAgICAgICAgdmFyIGNpcmNsZV83Zjk1NmJmMDU2YjA0NzY5ODY0ZmRmMzEwMjNhMzhhMSA9IEwuY2lyY2xlKAogICAgICAgICAgICAgICAgWzExLjA1NDY5MywgNzcuMDE4MjAxXSwKICAgICAgICAgICAgICAgIHsKICAiYnViYmxpbmdNb3VzZUV2ZW50cyI6IHRydWUsCiAgImNvbG9yIjogImNyaW1zb24iLAogICJkYXNoQXJyYXkiOiBudWxsLAogICJkYXNoT2Zmc2V0IjogbnVsbCwKICAiZmlsbCI6IGZhbHNlLAogICJmaWxsQ29sb3IiOiAiY3JpbXNvbiIsCiAgImZpbGxPcGFjaXR5IjogMC4yLAogICJmaWxsUnVsZSI6ICJldmVub2RkIiwKICAibGluZUNhcCI6ICJyb3VuZCIsCiAgImxpbmVKb2luIjogInJvdW5kIiwKICAib3BhY2l0eSI6IDEuMCwKICAicmFkaXVzIjogNTAwLAogICJzdHJva2UiOiB0cnVlLAogICJ3ZWlnaHQiOiAzCn0KICAgICAgICAgICAgICAgICkKICAgICAgICAgICAgICAgIC5hZGRUbyhtYXBfMTBmYTY0ZjI4MjUxNGIyMGE2ZjEzN2E3ZmUzY2Y1NGIpOwogICAgICAgICAgICAKICAgIAogICAgICAgICAgICB2YXIgcG9wdXBfMGE5NWYwMDJiZGUyNGNkZDk3ZjcxN2UxZTlkN2UxNjkgPSBMLnBvcHVwKHttYXhXaWR0aDogJzEwMCUnCiAgICAgICAgICAgIAogICAgICAgICAgICB9KTsKCiAgICAgICAgICAgIAogICAgICAgICAgICAgICAgdmFyIGh0bWxfMzZkZTc3YTE1NmY2NGRlNjlkZmNkNjAzODQxMjE4YzUgPSAkKGA8ZGl2IGlkPSJodG1sXzM2ZGU3N2ExNTZmNjRkZTY5ZGZjZDYwMzg0MTIxOGM1IiBzdHlsZT0id2lkdGg6IDEwMC4wJTsgaGVpZ2h0OiAxMDAuMCU7Ij5DaGVyYW5tYW5hZ2FyPC9kaXY+YClbMF07CiAgICAgICAgICAgICAgICBwb3B1cF8wYTk1ZjAwMmJkZTI0Y2RkOTdmNzE3ZTFlOWQ3ZTE2OS5zZXRDb250ZW50KGh0bWxfMzZkZTc3YTE1NmY2NGRlNjlkZmNkNjAzODQxMjE4YzUpOwogICAgICAgICAgICAKCiAgICAgICAgICAgIGNpcmNsZV83Zjk1NmJmMDU2YjA0NzY5ODY0ZmRmMzEwMjNhMzhhMS5iaW5kUG9wdXAocG9wdXBfMGE5NWYwMDJiZGUyNGNkZDk3ZjcxN2UxZTlkN2UxNjkpCiAgICAgICAgICAgIDsKCiAgICAgICAgICAgIAogICAgICAgIAogICAgCgogICAgICAgICAgICB2YXIgY2lyY2xlXzU5ZjY0ZDdhZjI1ZjQ2ZTBhNzM0MjdlNDhmMmVjNDRjID0gTC5jaXJjbGUoCiAgICAgICAgICAgICAgICBbMTAuOTU1NTUyLCA3Ni45OTg0OTNdLAogICAgICAgICAgICAgICAgewogICJidWJibGluZ01vdXNlRXZlbnRzIjogdHJ1ZSwKICAiY29sb3IiOiAiY3JpbXNvbiIsCiAgImRhc2hBcnJheSI6IG51bGwsCiAgImRhc2hPZmZzZXQiOiBudWxsLAogICJmaWxsIjogZmFsc2UsCiAgImZpbGxDb2xvciI6ICJjcmltc29uIiwKICAiZmlsbE9wYWNpdHkiOiAwLjIsCiAgImZpbGxSdWxlIjogImV2ZW5vZGQiLAogICJsaW5lQ2FwIjogInJvdW5kIiwKICAibGluZUpvaW4iOiAicm91bmQiLAogICJvcGFjaXR5IjogMS4wLAogICJyYWRpdXMiOiA1MDAsCiAgInN0cm9rZSI6IHRydWUsCiAgIndlaWdodCI6IDMKfQogICAgICAgICAgICAgICAgKQogICAgICAgICAgICAgICAgLmFkZFRvKG1hcF8xMGZhNjRmMjgyNTE0YjIwYTZmMTM3YTdmZTNjZjU0Yik7CiAgICAgICAgICAgIAogICAgCiAgICAgICAgICAgIHZhciBwb3B1cF8wN2EzNWI0NTdlN2Q0ZjhkODNiYjM5OTI5YjllM2RmYiA9IEwucG9wdXAoe21heFdpZHRoOiAnMTAwJScKICAgICAgICAgICAgCiAgICAgICAgICAgIH0pOwoKICAgICAgICAgICAgCiAgICAgICAgICAgICAgICB2YXIgaHRtbF8zMGJjNmMwYTcyZTA0MDcyODY0MmE5YmZiNzk0NjQ0MyA9ICQoYDxkaXYgaWQ9Imh0bWxfMzBiYzZjMGE3MmUwNDA3Mjg2NDJhOWJmYjc5NDY0NDMiIHN0eWxlPSJ3aWR0aDogMTAwLjAlOyBoZWlnaHQ6IDEwMC4wJTsiPlBvZGFudXI8L2Rpdj5gKVswXTsKICAgICAgICAgICAgICAgIHBvcHVwXzA3YTM1YjQ1N2U3ZDRmOGQ4M2JiMzk5MjliOWUzZGZiLnNldENvbnRlbnQoaHRtbF8zMGJjNmMwYTcyZTA0MDcyODY0MmE5YmZiNzk0NjQ0Myk7CiAgICAgICAgICAgIAoKICAgICAgICAgICAgY2lyY2xlXzU5ZjY0ZDdhZjI1ZjQ2ZTBhNzM0MjdlNDhmMmVjNDRjLmJpbmRQb3B1cChwb3B1cF8wN2EzNWI0NTdlN2Q0ZjhkODNiYjM5OTI5YjllM2RmYikKICAgICAgICAgICAgOwoKICAgICAgICAgICAgCiAgICAgICAgCiAgICAKCiAgICAgICAgICAgIHZhciBjaXJjbGVfZWZjMjAyMTM5OTljNDg1OWFkOTk4ZTBmMTMzOWNiNDMgPSBMLmNpcmNsZSgKICAgICAgICAgICAgICAgIFsxMC45OTExNzQsIDc2Ljk2NDY5Nl0sCiAgICAgICAgICAgICAgICB7CiAgImJ1YmJsaW5nTW91c2VFdmVudHMiOiB0cnVlLAogICJjb2xvciI6ICJjcmltc29uIiwKICAiZGFzaEFycmF5IjogbnVsbCwKICAiZGFzaE9mZnNldCI6IG51bGwsCiAgImZpbGwiOiBmYWxzZSwKICAiZmlsbENvbG9yIjogImNyaW1zb24iLAogICJmaWxsT3BhY2l0eSI6IDAuMiwKICAiZmlsbFJ1bGUiOiAiZXZlbm9kZCIsCiAgImxpbmVDYXAiOiAicm91bmQiLAogICJsaW5lSm9pbiI6ICJyb3VuZCIsCiAgIm9wYWNpdHkiOiAxLjAsCiAgInJhZGl1cyI6IDUwMCwKICAic3Ryb2tlIjogdHJ1ZSwKICAid2VpZ2h0IjogMwp9CiAgICAgICAgICAgICAgICApCiAgICAgICAgICAgICAgICAuYWRkVG8obWFwXzEwZmE2NGYyODI1MTRiMjBhNmYxMzdhN2ZlM2NmNTRiKTsKICAgICAgICAgICAgCiAgICAKICAgICAgICAgICAgdmFyIHBvcHVwX2RhZGNjZDE3YWQ3NjRjOTQ5MGQyYTE0NWM1NmJiOWVmID0gTC5wb3B1cCh7bWF4V2lkdGg6ICcxMDAlJwogICAgICAgICAgICAKICAgICAgICAgICAgfSk7CgogICAgICAgICAgICAKICAgICAgICAgICAgICAgIHZhciBodG1sX2ExYTNjZjk4NWQ2ZDRkZTA4MzM3YjczMjI0ZDFjZTM1ID0gJChgPGRpdiBpZD0iaHRtbF9hMWEzY2Y5ODVkNmQ0ZGUwODMzN2I3MzIyNGQxY2UzNSIgc3R5bGU9IndpZHRoOiAxMDAuMCU7IGhlaWdodDogMTAwLjAlOyI+VWtrYWRhbTwvZGl2PmApWzBdOwogICAgICAgICAgICAgICAgcG9wdXBfZGFkY2NkMTdhZDc2NGM5NDkwZDJhMTQ1YzU2YmI5ZWYuc2V0Q29udGVudChodG1sX2ExYTNjZjk4NWQ2ZDRkZTA4MzM3YjczMjI0ZDFjZTM1KTsKICAgICAgICAgICAgCgogICAgICAgICAgICBjaXJjbGVfZWZjMjAyMTM5OTljNDg1OWFkOTk4ZTBmMTMzOWNiNDMuYmluZFBvcHVwKHBvcHVwX2RhZGNjZDE3YWQ3NjRjOTQ5MGQyYTE0NWM1NmJiOWVmKQogICAgICAgICAgICA7CgogICAgICAgICAgICAKICAgICAgICAKICAgIAoKICAgICAgICAgICAgdmFyIGNpcmNsZV82ZTA5MjJhMzU3OTc0M2NkYmZhY2FjOTQ3Y2NiYWVjNyA9IEwuY2lyY2xlKAogICAgICAgICAgICAgICAgWzExLjAwODI5OSwgNzYuOTU1NTIyXSwKICAgICAgICAgICAgICAgIHsKICAiYnViYmxpbmdNb3VzZUV2ZW50cyI6IHRydWUsCiAgImNvbG9yIjogImNyaW1zb24iLAogICJkYXNoQXJyYXkiOiBudWxsLAogICJkYXNoT2Zmc2V0IjogbnVsbCwKICAiZmlsbCI6IGZhbHNlLAogICJmaWxsQ29sb3IiOiAiY3JpbXNvbiIsCiAgImZpbGxPcGFjaXR5IjogMC4yLAogICJmaWxsUnVsZSI6ICJldmVub2RkIiwKICAibGluZUNhcCI6ICJyb3VuZCIsCiAgImxpbmVKb2luIjogInJvdW5kIiwKICAib3BhY2l0eSI6IDEuMCwKICAicmFkaXVzIjogNTAwLAogICJzdHJva2UiOiB0cnVlLAogICJ3ZWlnaHQiOiAzCn0KICAgICAgICAgICAgICAgICkKICAgICAgICAgICAgICAgIC5hZGRUbyhtYXBfMTBmYTY0ZjI4MjUxNGIyMGE2ZjEzN2E3ZmUzY2Y1NGIpOwogICAgICAgICAgICAKICAgIAogICAgICAgICAgICB2YXIgcG9wdXBfNjlmMWM5ZWNkMmZiNGFkYTlhMWMyN2FiNTM1Mzg0ZWQgPSBMLnBvcHVwKHttYXhXaWR0aDogJzEwMCUnCiAgICAgICAgICAgIAogICAgICAgICAgICB9KTsKCiAgICAgICAgICAgIAogICAgICAgICAgICAgICAgdmFyIGh0bWxfMTk0NzAwNDkyN2QxNDIyZWIwZDkxMWUyNGE4ZDQ4ZmYgPSAkKGA8ZGl2IGlkPSJodG1sXzE5NDcwMDQ5MjdkMTQyMmViMGQ5MTFlMjRhOGQ0OGZmIiBzdHlsZT0id2lkdGg6IDEwMC4wJTsgaGVpZ2h0OiAxMDAuMCU7Ij5Qb29tYXJrZXQ8L2Rpdj5gKVswXTsKICAgICAgICAgICAgICAgIHBvcHVwXzY5ZjFjOWVjZDJmYjRhZGE5YTFjMjdhYjUzNTM4NGVkLnNldENvbnRlbnQoaHRtbF8xOTQ3MDA0OTI3ZDE0MjJlYjBkOTExZTI0YThkNDhmZik7CiAgICAgICAgICAgIAoKICAgICAgICAgICAgY2lyY2xlXzZlMDkyMmEzNTc5NzQzY2RiZmFjYWM5NDdjY2JhZWM3LmJpbmRQb3B1cChwb3B1cF82OWYxYzllY2QyZmI0YWRhOWExYzI3YWI1MzUzODRlZCkKICAgICAgICAgICAgOwoKICAgICAgICAgICAgCiAgICAgICAgCiAgICAKCiAgICAgICAgICAgIHZhciBjaXJjbGVfMDMyZjk1ZDM5NDJiNDk1Nzk5ZmU5ZWQxZGUxZWQ3ZDIgPSBMLmNpcmNsZSgKICAgICAgICAgICAgICAgIFsxMS4wMDk0NjUsIDc2Ljk1MTUxM10sCiAgICAgICAgICAgICAgICB7CiAgImJ1YmJsaW5nTW91c2VFdmVudHMiOiB0cnVlLAogICJjb2xvciI6ICJjcmltc29uIiwKICAiZGFzaEFycmF5IjogbnVsbCwKICAiZGFzaE9mZnNldCI6IG51bGwsCiAgImZpbGwiOiBmYWxzZSwKICAiZmlsbENvbG9yIjogImNyaW1zb24iLAogICJmaWxsT3BhY2l0eSI6IDAuMiwKICAiZmlsbFJ1bGUiOiAiZXZlbm9kZCIsCiAgImxpbmVDYXAiOiAicm91bmQiLAogICJsaW5lSm9pbiI6ICJyb3VuZCIsCiAgIm9wYWNpdHkiOiAxLjAsCiAgInJhZGl1cyI6IDUwMCwKICAic3Ryb2tlIjogdHJ1ZSwKICAid2VpZ2h0IjogMwp9CiAgICAgICAgICAgICAgICApCiAgICAgICAgICAgICAgICAuYWRkVG8obWFwXzEwZmE2NGYyODI1MTRiMjBhNmYxMzdhN2ZlM2NmNTRiKTsKICAgICAgICAgICAgCiAgICAKICAgICAgICAgICAgdmFyIHBvcHVwXzg5NjIzYTRmNmI2MjQ1NmRhNDQwNmIwNWE4MWE1OWE5ID0gTC5wb3B1cCh7bWF4V2lkdGg6ICcxMDAlJwogICAgICAgICAgICAKICAgICAgICAgICAgfSk7CgogICAgICAgICAgICAKICAgICAgICAgICAgICAgIHZhciBodG1sX2Q3NTVjYjU2ZmE0MDQ5YzJhZjlhYzI4YjdmMmI5M2Q3ID0gJChgPGRpdiBpZD0iaHRtbF9kNzU1Y2I1NmZhNDA0OWMyYWY5YWMyOGI3ZjJiOTNkNyIgc3R5bGU9IndpZHRoOiAxMDAuMCU7IGhlaWdodDogMTAwLjAlOyI+UlMgUHVyYW08L2Rpdj5gKVswXTsKICAgICAgICAgICAgICAgIHBvcHVwXzg5NjIzYTRmNmI2MjQ1NmRhNDQwNmIwNWE4MWE1OWE5LnNldENvbnRlbnQoaHRtbF9kNzU1Y2I1NmZhNDA0OWMyYWY5YWMyOGI3ZjJiOTNkNyk7CiAgICAgICAgICAgIAoKICAgICAgICAgICAgY2lyY2xlXzAzMmY5NWQzOTQyYjQ5NTc5OWZlOWVkMWRlMWVkN2QyLmJpbmRQb3B1cChwb3B1cF84OTYyM2E0ZjZiNjI0NTZkYTQ0MDZiMDVhODFhNTlhOSkKICAgICAgICAgICAgOwoKICAgICAgICAgICAgCiAgICAgICAgCjwvc2NyaXB0Pg== onload=\"this.contentDocument.open();this.contentDocument.write(atob(this.getAttribute('data-html')));this.contentDocument.close();\" allowfullscreen webkitallowfullscreen mozallowfullscreen></iframe></div></div>"
            ],
            "text/plain": [
              "<folium.folium.Map at 0x7fd758b4f3c8>"
            ]
          },
          "metadata": {
            "tags": []
          },
          "execution_count": 150
        }
      ]
    },
    {
      "cell_type": "code",
      "metadata": {
        "id": "oTXmFEmBZoxl",
        "colab_type": "code",
        "colab": {}
      },
      "source": [
        "map.save('covid-19-hospitals.html')"
      ],
      "execution_count": 0,
      "outputs": []
    },
    {
      "cell_type": "code",
      "metadata": {
        "id": "bFnTRUdmYiMO",
        "colab_type": "code",
        "colab": {}
      },
      "source": [
        ""
      ],
      "execution_count": 0,
      "outputs": []
    }
  ]
}