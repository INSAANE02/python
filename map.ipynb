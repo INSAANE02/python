{
  "nbformat": 4,
  "nbformat_minor": 0,
  "metadata": {
    "colab": {
      "name": "Untitled11.ipynb",
      "provenance": [],
      "authorship_tag": "ABX9TyPd5JASzQUyorHXTnBugFEJ",
      "include_colab_link": true
    },
    "kernelspec": {
      "name": "python3",
      "display_name": "Python 3"
    }
  },
  "cells": [
    {
      "cell_type": "markdown",
      "metadata": {
        "id": "view-in-github",
        "colab_type": "text"
      },
      "source": [
        "<a href=\"https://colab.research.google.com/github/Samson-Antony/python/blob/master/map.ipynb\" target=\"_parent\"><img src=\"https://colab.research.google.com/assets/colab-badge.svg\" alt=\"Open In Colab\"/></a>"
      ]
    },
    {
      "cell_type": "code",
      "metadata": {
        "id": "uC2-IirnIBzH",
        "colab_type": "code",
        "colab": {}
      },
      "source": [
        "import pandas\n",
        "import folium"
      ],
      "execution_count": 0,
      "outputs": []
    },
    {
      "cell_type": "code",
      "metadata": {
        "id": "fi2i102RIjnh",
        "colab_type": "code",
        "colab": {
          "resources": {
            "http://localhost:8080/nbextensions/google.colab/files.js": {
              "data": "Ly8gQ29weXJpZ2h0IDIwMTcgR29vZ2xlIExMQwovLwovLyBMaWNlbnNlZCB1bmRlciB0aGUgQXBhY2hlIExpY2Vuc2UsIFZlcnNpb24gMi4wICh0aGUgIkxpY2Vuc2UiKTsKLy8geW91IG1heSBub3QgdXNlIHRoaXMgZmlsZSBleGNlcHQgaW4gY29tcGxpYW5jZSB3aXRoIHRoZSBMaWNlbnNlLgovLyBZb3UgbWF5IG9idGFpbiBhIGNvcHkgb2YgdGhlIExpY2Vuc2UgYXQKLy8KLy8gICAgICBodHRwOi8vd3d3LmFwYWNoZS5vcmcvbGljZW5zZXMvTElDRU5TRS0yLjAKLy8KLy8gVW5sZXNzIHJlcXVpcmVkIGJ5IGFwcGxpY2FibGUgbGF3IG9yIGFncmVlZCB0byBpbiB3cml0aW5nLCBzb2Z0d2FyZQovLyBkaXN0cmlidXRlZCB1bmRlciB0aGUgTGljZW5zZSBpcyBkaXN0cmlidXRlZCBvbiBhbiAiQVMgSVMiIEJBU0lTLAovLyBXSVRIT1VUIFdBUlJBTlRJRVMgT1IgQ09ORElUSU9OUyBPRiBBTlkgS0lORCwgZWl0aGVyIGV4cHJlc3Mgb3IgaW1wbGllZC4KLy8gU2VlIHRoZSBMaWNlbnNlIGZvciB0aGUgc3BlY2lmaWMgbGFuZ3VhZ2UgZ292ZXJuaW5nIHBlcm1pc3Npb25zIGFuZAovLyBsaW1pdGF0aW9ucyB1bmRlciB0aGUgTGljZW5zZS4KCi8qKgogKiBAZmlsZW92ZXJ2aWV3IEhlbHBlcnMgZm9yIGdvb2dsZS5jb2xhYiBQeXRob24gbW9kdWxlLgogKi8KKGZ1bmN0aW9uKHNjb3BlKSB7CmZ1bmN0aW9uIHNwYW4odGV4dCwgc3R5bGVBdHRyaWJ1dGVzID0ge30pIHsKICBjb25zdCBlbGVtZW50ID0gZG9jdW1lbnQuY3JlYXRlRWxlbWVudCgnc3BhbicpOwogIGVsZW1lbnQudGV4dENvbnRlbnQgPSB0ZXh0OwogIGZvciAoY29uc3Qga2V5IG9mIE9iamVjdC5rZXlzKHN0eWxlQXR0cmlidXRlcykpIHsKICAgIGVsZW1lbnQuc3R5bGVba2V5XSA9IHN0eWxlQXR0cmlidXRlc1trZXldOwogIH0KICByZXR1cm4gZWxlbWVudDsKfQoKLy8gTWF4IG51bWJlciBvZiBieXRlcyB3aGljaCB3aWxsIGJlIHVwbG9hZGVkIGF0IGEgdGltZS4KY29uc3QgTUFYX1BBWUxPQURfU0laRSA9IDEwMCAqIDEwMjQ7Ci8vIE1heCBhbW91bnQgb2YgdGltZSB0byBibG9jayB3YWl0aW5nIGZvciB0aGUgdXNlci4KY29uc3QgRklMRV9DSEFOR0VfVElNRU9VVF9NUyA9IDMwICogMTAwMDsKCmZ1bmN0aW9uIF91cGxvYWRGaWxlcyhpbnB1dElkLCBvdXRwdXRJZCkgewogIGNvbnN0IHN0ZXBzID0gdXBsb2FkRmlsZXNTdGVwKGlucHV0SWQsIG91dHB1dElkKTsKICBjb25zdCBvdXRwdXRFbGVtZW50ID0gZG9jdW1lbnQuZ2V0RWxlbWVudEJ5SWQob3V0cHV0SWQpOwogIC8vIENhY2hlIHN0ZXBzIG9uIHRoZSBvdXRwdXRFbGVtZW50IHRvIG1ha2UgaXQgYXZhaWxhYmxlIGZvciB0aGUgbmV4dCBjYWxsCiAgLy8gdG8gdXBsb2FkRmlsZXNDb250aW51ZSBmcm9tIFB5dGhvbi4KICBvdXRwdXRFbGVtZW50LnN0ZXBzID0gc3RlcHM7CgogIHJldHVybiBfdXBsb2FkRmlsZXNDb250aW51ZShvdXRwdXRJZCk7Cn0KCi8vIFRoaXMgaXMgcm91Z2hseSBhbiBhc3luYyBnZW5lcmF0b3IgKG5vdCBzdXBwb3J0ZWQgaW4gdGhlIGJyb3dzZXIgeWV0KSwKLy8gd2hlcmUgdGhlcmUgYXJlIG11bHRpcGxlIGFzeW5jaHJvbm91cyBzdGVwcyBhbmQgdGhlIFB5dGhvbiBzaWRlIGlzIGdvaW5nCi8vIHRvIHBvbGwgZm9yIGNvbXBsZXRpb24gb2YgZWFjaCBzdGVwLgovLyBUaGlzIHVzZXMgYSBQcm9taXNlIHRvIGJsb2NrIHRoZSBweXRob24gc2lkZSBvbiBjb21wbGV0aW9uIG9mIGVhY2ggc3RlcCwKLy8gdGhlbiBwYXNzZXMgdGhlIHJlc3VsdCBvZiB0aGUgcHJldmlvdXMgc3RlcCBhcyB0aGUgaW5wdXQgdG8gdGhlIG5leHQgc3RlcC4KZnVuY3Rpb24gX3VwbG9hZEZpbGVzQ29udGludWUob3V0cHV0SWQpIHsKICBjb25zdCBvdXRwdXRFbGVtZW50ID0gZG9jdW1lbnQuZ2V0RWxlbWVudEJ5SWQob3V0cHV0SWQpOwogIGNvbnN0IHN0ZXBzID0gb3V0cHV0RWxlbWVudC5zdGVwczsKCiAgY29uc3QgbmV4dCA9IHN0ZXBzLm5leHQob3V0cHV0RWxlbWVudC5sYXN0UHJvbWlzZVZhbHVlKTsKICByZXR1cm4gUHJvbWlzZS5yZXNvbHZlKG5leHQudmFsdWUucHJvbWlzZSkudGhlbigodmFsdWUpID0+IHsKICAgIC8vIENhY2hlIHRoZSBsYXN0IHByb21pc2UgdmFsdWUgdG8gbWFrZSBpdCBhdmFpbGFibGUgdG8gdGhlIG5leHQKICAgIC8vIHN0ZXAgb2YgdGhlIGdlbmVyYXRvci4KICAgIG91dHB1dEVsZW1lbnQubGFzdFByb21pc2VWYWx1ZSA9IHZhbHVlOwogICAgcmV0dXJuIG5leHQudmFsdWUucmVzcG9uc2U7CiAgfSk7Cn0KCi8qKgogKiBHZW5lcmF0b3IgZnVuY3Rpb24gd2hpY2ggaXMgY2FsbGVkIGJldHdlZW4gZWFjaCBhc3luYyBzdGVwIG9mIHRoZSB1cGxvYWQKICogcHJvY2Vzcy4KICogQHBhcmFtIHtzdHJpbmd9IGlucHV0SWQgRWxlbWVudCBJRCBvZiB0aGUgaW5wdXQgZmlsZSBwaWNrZXIgZWxlbWVudC4KICogQHBhcmFtIHtzdHJpbmd9IG91dHB1dElkIEVsZW1lbnQgSUQgb2YgdGhlIG91dHB1dCBkaXNwbGF5LgogKiBAcmV0dXJuIHshSXRlcmFibGU8IU9iamVjdD59IEl0ZXJhYmxlIG9mIG5leHQgc3RlcHMuCiAqLwpmdW5jdGlvbiogdXBsb2FkRmlsZXNTdGVwKGlucHV0SWQsIG91dHB1dElkKSB7CiAgY29uc3QgaW5wdXRFbGVtZW50ID0gZG9jdW1lbnQuZ2V0RWxlbWVudEJ5SWQoaW5wdXRJZCk7CiAgaW5wdXRFbGVtZW50LmRpc2FibGVkID0gZmFsc2U7CgogIGNvbnN0IG91dHB1dEVsZW1lbnQgPSBkb2N1bWVudC5nZXRFbGVtZW50QnlJZChvdXRwdXRJZCk7CiAgb3V0cHV0RWxlbWVudC5pbm5lckhUTUwgPSAnJzsKCiAgY29uc3QgcGlja2VkUHJvbWlzZSA9IG5ldyBQcm9taXNlKChyZXNvbHZlKSA9PiB7CiAgICBpbnB1dEVsZW1lbnQuYWRkRXZlbnRMaXN0ZW5lcignY2hhbmdlJywgKGUpID0+IHsKICAgICAgcmVzb2x2ZShlLnRhcmdldC5maWxlcyk7CiAgICB9KTsKICB9KTsKCiAgY29uc3QgY2FuY2VsID0gZG9jdW1lbnQuY3JlYXRlRWxlbWVudCgnYnV0dG9uJyk7CiAgaW5wdXRFbGVtZW50LnBhcmVudEVsZW1lbnQuYXBwZW5kQ2hpbGQoY2FuY2VsKTsKICBjYW5jZWwudGV4dENvbnRlbnQgPSAnQ2FuY2VsIHVwbG9hZCc7CiAgY29uc3QgY2FuY2VsUHJvbWlzZSA9IG5ldyBQcm9taXNlKChyZXNvbHZlKSA9PiB7CiAgICBjYW5jZWwub25jbGljayA9ICgpID0+IHsKICAgICAgcmVzb2x2ZShudWxsKTsKICAgIH07CiAgfSk7CgogIC8vIENhbmNlbCB1cGxvYWQgaWYgdXNlciBoYXNuJ3QgcGlja2VkIGFueXRoaW5nIGluIHRpbWVvdXQuCiAgY29uc3QgdGltZW91dFByb21pc2UgPSBuZXcgUHJvbWlzZSgocmVzb2x2ZSkgPT4gewogICAgc2V0VGltZW91dCgoKSA9PiB7CiAgICAgIHJlc29sdmUobnVsbCk7CiAgICB9LCBGSUxFX0NIQU5HRV9USU1FT1VUX01TKTsKICB9KTsKCiAgLy8gV2FpdCBmb3IgdGhlIHVzZXIgdG8gcGljayB0aGUgZmlsZXMuCiAgY29uc3QgZmlsZXMgPSB5aWVsZCB7CiAgICBwcm9taXNlOiBQcm9taXNlLnJhY2UoW3BpY2tlZFByb21pc2UsIHRpbWVvdXRQcm9taXNlLCBjYW5jZWxQcm9taXNlXSksCiAgICByZXNwb25zZTogewogICAgICBhY3Rpb246ICdzdGFydGluZycsCiAgICB9CiAgfTsKCiAgaWYgKCFmaWxlcykgewogICAgcmV0dXJuIHsKICAgICAgcmVzcG9uc2U6IHsKICAgICAgICBhY3Rpb246ICdjb21wbGV0ZScsCiAgICAgIH0KICAgIH07CiAgfQoKICBjYW5jZWwucmVtb3ZlKCk7CgogIC8vIERpc2FibGUgdGhlIGlucHV0IGVsZW1lbnQgc2luY2UgZnVydGhlciBwaWNrcyBhcmUgbm90IGFsbG93ZWQuCiAgaW5wdXRFbGVtZW50LmRpc2FibGVkID0gdHJ1ZTsKCiAgZm9yIChjb25zdCBmaWxlIG9mIGZpbGVzKSB7CiAgICBjb25zdCBsaSA9IGRvY3VtZW50LmNyZWF0ZUVsZW1lbnQoJ2xpJyk7CiAgICBsaS5hcHBlbmQoc3BhbihmaWxlLm5hbWUsIHtmb250V2VpZ2h0OiAnYm9sZCd9KSk7CiAgICBsaS5hcHBlbmQoc3BhbigKICAgICAgICBgKCR7ZmlsZS50eXBlIHx8ICduL2EnfSkgLSAke2ZpbGUuc2l6ZX0gYnl0ZXMsIGAgKwogICAgICAgIGBsYXN0IG1vZGlmaWVkOiAkewogICAgICAgICAgICBmaWxlLmxhc3RNb2RpZmllZERhdGUgPyBmaWxlLmxhc3RNb2RpZmllZERhdGUudG9Mb2NhbGVEYXRlU3RyaW5nKCkgOgogICAgICAgICAgICAgICAgICAgICAgICAgICAgICAgICAgICAnbi9hJ30gLSBgKSk7CiAgICBjb25zdCBwZXJjZW50ID0gc3BhbignMCUgZG9uZScpOwogICAgbGkuYXBwZW5kQ2hpbGQocGVyY2VudCk7CgogICAgb3V0cHV0RWxlbWVudC5hcHBlbmRDaGlsZChsaSk7CgogICAgY29uc3QgZmlsZURhdGFQcm9taXNlID0gbmV3IFByb21pc2UoKHJlc29sdmUpID0+IHsKICAgICAgY29uc3QgcmVhZGVyID0gbmV3IEZpbGVSZWFkZXIoKTsKICAgICAgcmVhZGVyLm9ubG9hZCA9IChlKSA9PiB7CiAgICAgICAgcmVzb2x2ZShlLnRhcmdldC5yZXN1bHQpOwogICAgICB9OwogICAgICByZWFkZXIucmVhZEFzQXJyYXlCdWZmZXIoZmlsZSk7CiAgICB9KTsKICAgIC8vIFdhaXQgZm9yIHRoZSBkYXRhIHRvIGJlIHJlYWR5LgogICAgbGV0IGZpbGVEYXRhID0geWllbGQgewogICAgICBwcm9taXNlOiBmaWxlRGF0YVByb21pc2UsCiAgICAgIHJlc3BvbnNlOiB7CiAgICAgICAgYWN0aW9uOiAnY29udGludWUnLAogICAgICB9CiAgICB9OwoKICAgIC8vIFVzZSBhIGNodW5rZWQgc2VuZGluZyB0byBhdm9pZCBtZXNzYWdlIHNpemUgbGltaXRzLiBTZWUgYi82MjExNTY2MC4KICAgIGxldCBwb3NpdGlvbiA9IDA7CiAgICB3aGlsZSAocG9zaXRpb24gPCBmaWxlRGF0YS5ieXRlTGVuZ3RoKSB7CiAgICAgIGNvbnN0IGxlbmd0aCA9IE1hdGgubWluKGZpbGVEYXRhLmJ5dGVMZW5ndGggLSBwb3NpdGlvbiwgTUFYX1BBWUxPQURfU0laRSk7CiAgICAgIGNvbnN0IGNodW5rID0gbmV3IFVpbnQ4QXJyYXkoZmlsZURhdGEsIHBvc2l0aW9uLCBsZW5ndGgpOwogICAgICBwb3NpdGlvbiArPSBsZW5ndGg7CgogICAgICBjb25zdCBiYXNlNjQgPSBidG9hKFN0cmluZy5mcm9tQ2hhckNvZGUuYXBwbHkobnVsbCwgY2h1bmspKTsKICAgICAgeWllbGQgewogICAgICAgIHJlc3BvbnNlOiB7CiAgICAgICAgICBhY3Rpb246ICdhcHBlbmQnLAogICAgICAgICAgZmlsZTogZmlsZS5uYW1lLAogICAgICAgICAgZGF0YTogYmFzZTY0LAogICAgICAgIH0sCiAgICAgIH07CiAgICAgIHBlcmNlbnQudGV4dENvbnRlbnQgPQogICAgICAgICAgYCR7TWF0aC5yb3VuZCgocG9zaXRpb24gLyBmaWxlRGF0YS5ieXRlTGVuZ3RoKSAqIDEwMCl9JSBkb25lYDsKICAgIH0KICB9CgogIC8vIEFsbCBkb25lLgogIHlpZWxkIHsKICAgIHJlc3BvbnNlOiB7CiAgICAgIGFjdGlvbjogJ2NvbXBsZXRlJywKICAgIH0KICB9Owp9CgpzY29wZS5nb29nbGUgPSBzY29wZS5nb29nbGUgfHwge307CnNjb3BlLmdvb2dsZS5jb2xhYiA9IHNjb3BlLmdvb2dsZS5jb2xhYiB8fCB7fTsKc2NvcGUuZ29vZ2xlLmNvbGFiLl9maWxlcyA9IHsKICBfdXBsb2FkRmlsZXMsCiAgX3VwbG9hZEZpbGVzQ29udGludWUsCn07Cn0pKHNlbGYpOwo=",
              "ok": true,
              "headers": [
                [
                  "content-type",
                  "application/javascript"
                ]
              ],
              "status": 200,
              "status_text": ""
            }
          },
          "base_uri": "https://localhost:8080/",
          "height": 72
        },
        "outputId": "7054e414-6edc-45cd-ec43-00804219df51"
      },
      "source": [
        "from google.colab import files\n",
        "uploaded = files.upload()"
      ],
      "execution_count": 2,
      "outputs": [
        {
          "output_type": "display_data",
          "data": {
            "text/html": [
              "\n",
              "     <input type=\"file\" id=\"files-3bdcd135-8834-4b8f-9a60-cdaa12c95c28\" name=\"files[]\" multiple disabled />\n",
              "     <output id=\"result-3bdcd135-8834-4b8f-9a60-cdaa12c95c28\">\n",
              "      Upload widget is only available when the cell has been executed in the\n",
              "      current browser session. Please rerun this cell to enable.\n",
              "      </output>\n",
              "      <script src=\"/nbextensions/google.colab/files.js\"></script> "
            ],
            "text/plain": [
              "<IPython.core.display.HTML object>"
            ]
          },
          "metadata": {
            "tags": []
          }
        },
        {
          "output_type": "stream",
          "text": [
            "Saving gh.csv to gh.csv\n"
          ],
          "name": "stdout"
        }
      ]
    },
    {
      "cell_type": "code",
      "metadata": {
        "id": "3WY_8uBJIsRe",
        "colab_type": "code",
        "colab": {}
      },
      "source": [
        "dataset = pandas.read_csv('gh.csv')"
      ],
      "execution_count": 0,
      "outputs": []
    },
    {
      "cell_type": "code",
      "metadata": {
        "id": "sQNOQLhoItMj",
        "colab_type": "code",
        "colab": {
          "base_uri": "https://localhost:8080/",
          "height": 375
        },
        "outputId": "5a31cf2f-9b5f-4dbc-b952-2f7d500e1356"
      },
      "source": [
        "dataset.info"
      ],
      "execution_count": 64,
      "outputs": [
        {
          "output_type": "execute_result",
          "data": {
            "text/plain": [
              "<bound method DataFrame.info of                                                  name        lat        lon\n",
              "0   Tamil Nadu Government Multi Speciality Hospita...  13.070550  80.274627\n",
              "1   Rajiv Gandhi Government General Hospital, Chennai  13.081582  80.276570\n",
              "2           Stanley Medical College Hospital, Chennai  13.107380  80.286725\n",
              "3         Kilpauk Medical College & Hospital, Chennai  13.090398  80.238837\n",
              "4   Government Velore Medical College and Hospital...  12.845245  79.137057\n",
              "5   Government Mohan kumaramangalam Medical Colleg...  11.654704  78.152202\n",
              "6   Government Erode Medical College and Hospital,...  11.282512  77.566144\n",
              "7                 Government ESI Hospital, Coimbatore  11.009627  77.024138\n",
              "8   Government Vilupuram Medical College and Hospi...  11.994363  79.515190\n",
              "9   Government Thiruvannamalai Medical College and...  12.274464  79.079121\n",
              "10  Government Dharmapuri Medical College and Hosp...  12.123441  78.157793\n",
              "11  Government Karur Medical College and Hospital,...  10.951235  78.101158\n",
              "12  Raja Muthaiah Medical College Chithamparam, Cu...  11.395479  79.716068\n",
              "13  Mahatma Gandhi Memorial Government Hospital, T...  10.897742  78.691046\n",
              "14  Government Thanjavur Medical College and Hospi...  10.757734  79.104930\n",
              "15  Government Sivagangai Medical College and Hosp...   9.839939  78.478809\n",
              "16  Government Madurai Medical College and Hospita...   9.928251  78.129441\n",
              "17   Government Theni Medical college Hospital, Theni  10.008373  77.553221\n",
              "18  Government Thirunelveli Medical College and Ho...   8.716692  77.755561\n",
              "19  Government Kanyakumari Medical College and Hos...   8.173980  77.396183\n",
              "20  GovernmentThiruvarur Medical College and Hospi...  10.775795  79.606007>"
            ]
          },
          "metadata": {
            "tags": []
          },
          "execution_count": 64
        }
      ]
    },
    {
      "cell_type": "code",
      "metadata": {
        "id": "eDAmhc9VIw3A",
        "colab_type": "code",
        "colab": {}
      },
      "source": [
        "p= dataset[['lat','lon']]"
      ],
      "execution_count": 0,
      "outputs": []
    },
    {
      "cell_type": "code",
      "metadata": {
        "id": "ER3ZtSTNU_2W",
        "colab_type": "code",
        "colab": {
          "base_uri": "https://localhost:8080/",
          "height": 33
        },
        "outputId": "8501c1f0-5d9a-4186-8f47-478abf2df3cf"
      },
      "source": [
        "dataset['name'][0]"
      ],
      "execution_count": 66,
      "outputs": [
        {
          "output_type": "execute_result",
          "data": {
            "text/plain": [
              "'Tamil Nadu Government Multi Speciality Hospital, Chennai'"
            ]
          },
          "metadata": {
            "tags": []
          },
          "execution_count": 66
        }
      ]
    },
    {
      "cell_type": "code",
      "metadata": {
        "id": "WCjfSw6hSucS",
        "colab_type": "code",
        "colab": {
          "base_uri": "https://localhost:8080/",
          "height": 33
        },
        "outputId": "2aa553fa-1cc4-4ef4-94a1-6c637d49e969"
      },
      "source": [
        "type(p)"
      ],
      "execution_count": 67,
      "outputs": [
        {
          "output_type": "execute_result",
          "data": {
            "text/plain": [
              "pandas.core.frame.DataFrame"
            ]
          },
          "metadata": {
            "tags": []
          },
          "execution_count": 67
        }
      ]
    },
    {
      "cell_type": "code",
      "metadata": {
        "id": "Y0Quv1awI09l",
        "colab_type": "code",
        "colab": {}
      },
      "source": [
        "map= folium.Map(location=[13.070550,80.274627])"
      ],
      "execution_count": 0,
      "outputs": []
    },
    {
      "cell_type": "code",
      "metadata": {
        "id": "LdLcUokHS0iK",
        "colab_type": "code",
        "colab": {}
      },
      "source": [
        "p=p.values.tolist()"
      ],
      "execution_count": 0,
      "outputs": []
    },
    {
      "cell_type": "code",
      "metadata": {
        "id": "J_9PmTI7KmXM",
        "colab_type": "code",
        "colab": {
          "base_uri": "https://localhost:8080/",
          "height": 33
        },
        "outputId": "a77f51ac-9520-4f64-8cb7-69f388865a0a"
      },
      "source": [
        "type(p)"
      ],
      "execution_count": 70,
      "outputs": [
        {
          "output_type": "execute_result",
          "data": {
            "text/plain": [
              "list"
            ]
          },
          "metadata": {
            "tags": []
          },
          "execution_count": 70
        }
      ]
    },
    {
      "cell_type": "code",
      "metadata": {
        "id": "wN-HWZj2I5iv",
        "colab_type": "code",
        "colab": {}
      },
      "source": [
        "#i=0\n",
        "#for i in p:\n",
        " #   folium.Marker(location=point, popup=dataset['name'],icon=folium.Icon(icon_color='green')).add_to(map)\n",
        "  #  i+=1\n",
        "    #"
      ],
      "execution_count": 0,
      "outputs": []
    },
    {
      "cell_type": "code",
      "metadata": {
        "id": "3-Zopx24XPyh",
        "colab_type": "code",
        "colab": {}
      },
      "source": [
        "def sam(i,color):\n",
        "    folium.Marker(\n",
        "            location=point, \n",
        "            popup=dataset['name'][i],\n",
        "            icon=folium.Icon(color=color, icon='tint', icon_color='white' )\n",
        "        ).add_to(map)"
      ],
      "execution_count": 0,
      "outputs": []
    },
    {
      "cell_type": "code",
      "metadata": {
        "id": "GIfgko5HI_Yz",
        "colab_type": "code",
        "colab": {}
      },
      "source": [
        "i=0\n",
        "for point in p:\n",
        "   # if dataset['Oct 2017\\nkl/month'][i] >= 10:\n",
        "        sam(i,'red')\n",
        " #   else:\n",
        "   #     lw(i,'green')\n",
        "        i+=1"
      ],
      "execution_count": 0,
      "outputs": []
    },
    {
      "cell_type": "code",
      "metadata": {
        "id": "3IDczG45XxD7",
        "colab_type": "code",
        "colab": {
          "base_uri": "https://localhost:8080/",
          "height": 968
        },
        "outputId": "7b6f7576-e682-4682-fd24-617480279163"
      },
      "source": [
        "map"
      ],
      "execution_count": 74,
      "outputs": [
        {
          "output_type": "execute_result",
          "data": {
            "text/html": [
              "<div style=\"width:100%;\"><div style=\"position:relative;width:100%;height:0;padding-bottom:60%;\"><iframe src=\"about:blank\" style=\"position:absolute;width:100%;height:100%;left:0;top:0;border:none !important;\" data-html=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 onload=\"this.contentDocument.open();this.contentDocument.write(atob(this.getAttribute('data-html')));this.contentDocument.close();\" allowfullscreen webkitallowfullscreen mozallowfullscreen></iframe></div></div>"
            ],
            "text/plain": [
              "<folium.folium.Map at 0x7fd758c31d68>"
            ]
          },
          "metadata": {
            "tags": []
          },
          "execution_count": 74
        }
      ]
    },
    {
      "cell_type": "code",
      "metadata": {
        "id": "bFnTRUdmYiMO",
        "colab_type": "code",
        "colab": {}
      },
      "source": [
        ""
      ],
      "execution_count": 0,
      "outputs": []
    }
  ]
}