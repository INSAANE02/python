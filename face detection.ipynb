{
 "cells": [
  {
   "cell_type": "code",
   "execution_count": 1,
   "metadata": {},
   "outputs": [],
   "source": [
    "import cv2\n",
    "cap = cv2.VideoCapture(0)\n",
    "body_classifier = cv2.CascadeClassifier('haarcascade_frontalface_default.xml')"
   ]
  },
  {
   "cell_type": "code",
   "execution_count": null,
   "metadata": {},
   "outputs": [],
   "source": [
    "while True:\n",
    "    status, photo= cap.read()\n",
    "    body_cor = body_classifier.detectMultiScale(photo)\n",
    "    \n",
    "    if len(body_cor) == 0:\n",
    "        pass\n",
    "    else:\n",
    "        nf= len(body_cor)\n",
    "        for i in range(nf):\n",
    "            x1 = body_cor[i][0]\n",
    "            y1 = body_cor[i][1]\n",
    "            x2 = x1 + body_cor[i][2]\n",
    "            y2 = y1 + body_cor[i][3]\n",
    "            photo = cv2.rectangle(photo, (x1, y1), (x2, y2), [100,48,79], 2)\n",
    "        cv2.putText(photo, str( nf),(10,70), cv2.FONT_HERSHEY_TRIPLEX,2,(0,255,0),3,cv2.LINE_AA)\n",
    "        cv2.imshow('hi', photo)\n",
    "        if cv2.waitKey(1) == 13:\n",
    "            break\n",
    "cv2.destroyAllWindows()"
   ]
  },
  {
   "cell_type": "code",
   "execution_count": 3,
   "metadata": {},
   "outputs": [],
   "source": [
    "cv2.destroyAllWindows()"
   ]
  },
  {
   "cell_type": "code",
   "execution_count": null,
   "metadata": {},
   "outputs": [],
   "source": []
  }
 ],
 "metadata": {
  "kernelspec": {
   "display_name": "Python 3",
   "language": "python",
   "name": "python3"
  },
  "language_info": {
   "codemirror_mode": {
    "name": "ipython",
    "version": 3
   },
   "file_extension": ".py",
   "mimetype": "text/x-python",
   "name": "python",
   "nbconvert_exporter": "python",
   "pygments_lexer": "ipython3",
   "version": "3.7.6"
  }
 },
 "nbformat": 4,
 "nbformat_minor": 4
}
