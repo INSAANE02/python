{
  "nbformat": 4,
  "nbformat_minor": 0,
  "metadata": {
    "colab": {
      "name": "Untitled26.ipynb",
      "provenance": [],
      "authorship_tag": "ABX9TyMf45rb9bTsPcLvbwYMhhjM",
      "include_colab_link": true
    },
    "kernelspec": {
      "name": "python3",
      "display_name": "Python 3"
    }
  },
  "cells": [
    {
      "cell_type": "markdown",
      "metadata": {
        "id": "view-in-github",
        "colab_type": "text"
      },
      "source": [
        "<a href=\"https://colab.research.google.com/github/Samson-Antony/python/blob/repeated-elements(list)/repeated-elements(list).ipynb\" target=\"_parent\"><img src=\"https://colab.research.google.com/assets/colab-badge.svg\" alt=\"Open In Colab\"/></a>"
      ]
    },
    {
      "cell_type": "code",
      "metadata": {
        "id": "plCGm1ZZkhnf",
        "colab_type": "code",
        "colab": {}
      },
      "source": [
        "a=[1,1,1,7,7,2,3,7,3,3,3,1,5,6,6,6]\n",
        "lists=[]\n",
        "countlist=[]"
      ],
      "execution_count": 0,
      "outputs": []
    },
    {
      "cell_type": "code",
      "metadata": {
        "id": "IUAIoNWNk4ap",
        "colab_type": "code",
        "colab": {}
      },
      "source": [
        "for i in a:\n",
        "    if i in lists:\n",
        "      continue\n",
        "    else:\n",
        "      lists.append(i)\n"
      ],
      "execution_count": 0,
      "outputs": []
    },
    {
      "cell_type": "code",
      "metadata": {
        "id": "E7BNWNcLt84q",
        "colab_type": "code",
        "colab": {}
      },
      "source": [
        "for i in lists :\n",
        "  count=0\n",
        "  for j in a:\n",
        "    if i==j:\n",
        "      count=count+1;\n",
        "  countlist.append(count)"
      ],
      "execution_count": 0,
      "outputs": []
    },
    {
      "cell_type": "code",
      "metadata": {
        "id": "qI7D_CJBvvrw",
        "colab_type": "code",
        "colab": {
          "base_uri": "https://localhost:8080/",
          "height": 34
        },
        "outputId": "eca687f1-8473-496d-8442-b90c3b4c68ed"
      },
      "source": [
        "a"
      ],
      "execution_count": 106,
      "outputs": [
        {
          "output_type": "execute_result",
          "data": {
            "text/plain": [
              "[1, 1, 1, 7, 7, 2, 3, 7, 3, 3, 3, 1, 5, 6, 6, 6]"
            ]
          },
          "metadata": {
            "tags": []
          },
          "execution_count": 106
        }
      ]
    },
    {
      "cell_type": "code",
      "metadata": {
        "id": "Nh7HIob3zfaN",
        "colab_type": "code",
        "colab": {
          "base_uri": "https://localhost:8080/",
          "height": 34
        },
        "outputId": "3d327623-8e62-45bc-c95c-70e5ff1790d3"
      },
      "source": [
        "lists"
      ],
      "execution_count": 107,
      "outputs": [
        {
          "output_type": "execute_result",
          "data": {
            "text/plain": [
              "[1, 7, 2, 3, 5, 6]"
            ]
          },
          "metadata": {
            "tags": []
          },
          "execution_count": 107
        }
      ]
    },
    {
      "cell_type": "code",
      "metadata": {
        "id": "_ly4u6xzzmi9",
        "colab_type": "code",
        "colab": {
          "base_uri": "https://localhost:8080/",
          "height": 34
        },
        "outputId": "0aac9d27-fa68-4f45-a321-b95f24481c75"
      },
      "source": [
        "countlist"
      ],
      "execution_count": 108,
      "outputs": [
        {
          "output_type": "execute_result",
          "data": {
            "text/plain": [
              "[4, 3, 1, 4, 1, 3]"
            ]
          },
          "metadata": {
            "tags": []
          },
          "execution_count": 108
        }
      ]
    }
  ]
}