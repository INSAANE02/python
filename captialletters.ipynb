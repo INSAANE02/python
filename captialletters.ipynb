{
  "nbformat": 4,
  "nbformat_minor": 0,
  "metadata": {
    "colab": {
      "name": "captialletters.ipynb",
      "provenance": [],
      "authorship_tag": "ABX9TyMk8oEZIAIRI+2qsZ+u+Aot",
      "include_colab_link": true
    },
    "kernelspec": {
      "name": "python3",
      "display_name": "Python 3"
    }
  },
  "cells": [
    {
      "cell_type": "markdown",
      "metadata": {
        "id": "view-in-github",
        "colab_type": "text"
      },
      "source": [
        "<a href=\"https://colab.research.google.com/github/Samson-Antony/python/blob/firstlettercaptial/captialletters.ipynb\" target=\"_parent\"><img src=\"https://colab.research.google.com/assets/colab-badge.svg\" alt=\"Open In Colab\"/></a>"
      ]
    },
    {
      "cell_type": "code",
      "metadata": {
        "id": "7qTuz-PlCUZ6",
        "colab_type": "code",
        "outputId": "a53f0541-8831-4f02-dd60-8cf7d9717865",
        "colab": {
          "base_uri": "https://localhost:8080/",
          "height": 52
        }
      },
      "source": [
        "sentence = \"hi this is test\"\n",
        "length=len(sentence)\n",
        "\n",
        "result=\"\"\n",
        "result=result+sentence[0].upper()\n",
        "\n",
        "for i in range(0,length-1):\n",
        "    if sentence[i]==\" \":\n",
        "        result=result+sentence[i+1].upper()\n",
        "    elif (i==length) :\n",
        "        break\n",
        "    else:\n",
        "        result=result+(sentence[i+1])\n",
        " \n",
        "\n",
        "print(sentence)\n",
        "print(result)"
      ],
      "execution_count": 0,
      "outputs": [
        {
          "output_type": "stream",
          "text": [
            "hi this is test\n",
            "Hi This Is Test\n"
          ],
          "name": "stdout"
        }
      ]
    }
  ]
}